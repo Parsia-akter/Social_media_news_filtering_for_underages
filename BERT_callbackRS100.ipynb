{
  "cells": [
    {
      "cell_type": "markdown",
      "metadata": {
        "id": "UgpLG9syo580"
      },
      "source": [
        "#BERT\n"
      ]
    },
    {
      "cell_type": "markdown",
      "metadata": {
        "id": "v9KXM1jtf4Ne"
      },
      "source": [
        " بسم الله الرحمن الرحيم "
      ]
    },
    {
      "cell_type": "markdown",
      "metadata": {
        "id": "C_TmQLDDVj7-"
      },
      "source": [
        "##Data Preprocessing\n"
      ]
    },
    {
      "cell_type": "code",
      "execution_count": null,
      "metadata": {
        "id": "78FOGAhfO4y9"
      },
      "outputs": [],
      "source": [
        "from google.colab import drive"
      ]
    },
    {
      "cell_type": "code",
      "execution_count": null,
      "metadata": {
        "colab": {
          "base_uri": "https://localhost:8080/"
        },
        "id": "Z4TdH7Ugmy5E",
        "outputId": "8a22252a-635f-4e9b-cb1a-afd48fc2c8e6"
      },
      "outputs": [
        {
          "output_type": "stream",
          "name": "stdout",
          "text": [
            "Mounted at /content/drive\n"
          ]
        }
      ],
      "source": [
        "drive.mount('/content/drive')"
      ]
    },
    {
      "cell_type": "code",
      "execution_count": null,
      "metadata": {
        "id": "5fraT0fmVj8H"
      },
      "outputs": [],
      "source": [
        "import numpy as np\n",
        "import matplotlib.pyplot as plt\n",
        "import pandas as pd"
      ]
    },
    {
      "cell_type": "code",
      "execution_count": null,
      "metadata": {
        "id": "_boF87ggVj8J"
      },
      "outputs": [],
      "source": [
        "dataset = pd.read_csv('/content/drive/MyDrive/thesisDataset/newsDataset.csv')"
      ]
    },
    {
      "cell_type": "code",
      "execution_count": null,
      "metadata": {
        "colab": {
          "base_uri": "https://localhost:8080/"
        },
        "id": "zPHR10ymBLEz",
        "outputId": "4fabb5ad-1cd6-4e96-ff96-f40efbd32f0e"
      },
      "outputs": [
        {
          "output_type": "stream",
          "name": "stdout",
          "text": [
            "<class 'pandas.core.frame.DataFrame'>\n",
            "RangeIndex: 25000 entries, 0 to 24999\n",
            "Data columns (total 6 columns):\n",
            " #   Column       Non-Null Count  Dtype \n",
            "---  ------       --------------  ----- \n",
            " 0   Unnamed: 0   25000 non-null  int64 \n",
            " 1   name         25000 non-null  object\n",
            " 2   url          25000 non-null  object\n",
            " 3   title        25000 non-null  object\n",
            " 4   article      25000 non-null  object\n",
            " 5   kidFriendly  25000 non-null  int64 \n",
            "dtypes: int64(2), object(4)\n",
            "memory usage: 1.1+ MB\n"
          ]
        }
      ],
      "source": [
        "dataset.info()"
      ]
    },
    {
      "cell_type": "code",
      "execution_count": null,
      "metadata": {
        "colab": {
          "base_uri": "https://localhost:8080/",
          "height": 659
        },
        "id": "fvR-9ROYpbsZ",
        "outputId": "2185a9d4-f82a-4286-9a5b-1ec947da52f1"
      },
      "outputs": [
        {
          "output_type": "execute_result",
          "data": {
            "text/plain": [
              "       Unnamed: 0                       name  \\\n",
              "0               0  Science News for Students   \n",
              "1               1                   ROBINAGE   \n",
              "2               2                  DOGO News   \n",
              "3               3                   Atlantic   \n",
              "4               4                   ROBINAGE   \n",
              "...           ...                        ...   \n",
              "24995       24995              Time for Kids   \n",
              "24996       24996                        CNN   \n",
              "24997       24997                   Atlantic   \n",
              "24998       24998                  DOGO News   \n",
              "24999       24999                  Breitbart   \n",
              "\n",
              "                                                     url  \\\n",
              "0      https://www.sciencenewsforstudents.org/article...   \n",
              "1      https://www.robinage.com/books--nooks/dont-flu...   \n",
              "2      https://www.dogonews.com/2011/9/22/this-friday...   \n",
              "3                                              Not Found   \n",
              "4      https://www.robinage.com/recipes/cheese-parant...   \n",
              "...                                                  ...   \n",
              "24995                            http://tfk.news/3vpxnQR   \n",
              "24996                                          Not Found   \n",
              "24997                                          Not Found   \n",
              "24998  https://www.dogonews.com/2010/5/8/a-heavenly-t...   \n",
              "24999                                          Not Found   \n",
              "\n",
              "                                                   title  \\\n",
              "0                              Cool Jobs: Sports science   \n",
              "1                                            Don't Flush   \n",
              "2      This Friday - Watch Out For The Satellite Debr...   \n",
              "3       Rex Tillerson Says Climate Change Is Real, but …   \n",
              "4                                        Cheese Parantha   \n",
              "...                                                  ...   \n",
              "24995  It's #WafflesAndMochi day! TFK Kid Reporter Be...   \n",
              "24996  Obama comes face to face with burdens of 9/11 ...   \n",
              "24997                                 The New Reality TV   \n",
              "24998           This Mother's Day - Reach For The Stars!   \n",
              "24999  Exclusive — Darrell Issa: ‘Tainted Justice Dep...   \n",
              "\n",
              "                                                 article  kidFriendly  \n",
              "0      A teenager wearing a white leotard emblazoned ...            1  \n",
              "1      If you think poo and wee is disgusting and not...            1  \n",
              "2      Over the years, we have sent so many irretriev...            1  \n",
              "3      As chairman and CEO of ExxonMobil, Rex Tillers...            0  \n",
              "4      What You Need: For the Parantha\\nWheat flour -...            1  \n",
              "...                                                  ...          ...  \n",
              "24995  Take two puppets, add former First Lady Michel...            1  \n",
              "24996   (CNN) President Barack Obama came face to fac...            0  \n",
              "24997  “Reality seems tired. It seems derivative,” a ...            0  \n",
              "24998  Photo Credit: imothersday.net  If you are stil...            1  \n",
              "24999  Rep. Darrell Issa ( ) the former chairman of t...            0  \n",
              "\n",
              "[25000 rows x 6 columns]"
            ],
            "text/html": [
              "\n",
              "  <div id=\"df-18016dc0-4438-4366-915d-006adb42e6f3\">\n",
              "    <div class=\"colab-df-container\">\n",
              "      <div>\n",
              "<style scoped>\n",
              "    .dataframe tbody tr th:only-of-type {\n",
              "        vertical-align: middle;\n",
              "    }\n",
              "\n",
              "    .dataframe tbody tr th {\n",
              "        vertical-align: top;\n",
              "    }\n",
              "\n",
              "    .dataframe thead th {\n",
              "        text-align: right;\n",
              "    }\n",
              "</style>\n",
              "<table border=\"1\" class=\"dataframe\">\n",
              "  <thead>\n",
              "    <tr style=\"text-align: right;\">\n",
              "      <th></th>\n",
              "      <th>Unnamed: 0</th>\n",
              "      <th>name</th>\n",
              "      <th>url</th>\n",
              "      <th>title</th>\n",
              "      <th>article</th>\n",
              "      <th>kidFriendly</th>\n",
              "    </tr>\n",
              "  </thead>\n",
              "  <tbody>\n",
              "    <tr>\n",
              "      <th>0</th>\n",
              "      <td>0</td>\n",
              "      <td>Science News for Students</td>\n",
              "      <td>https://www.sciencenewsforstudents.org/article...</td>\n",
              "      <td>Cool Jobs: Sports science</td>\n",
              "      <td>A teenager wearing a white leotard emblazoned ...</td>\n",
              "      <td>1</td>\n",
              "    </tr>\n",
              "    <tr>\n",
              "      <th>1</th>\n",
              "      <td>1</td>\n",
              "      <td>ROBINAGE</td>\n",
              "      <td>https://www.robinage.com/books--nooks/dont-flu...</td>\n",
              "      <td>Don't Flush</td>\n",
              "      <td>If you think poo and wee is disgusting and not...</td>\n",
              "      <td>1</td>\n",
              "    </tr>\n",
              "    <tr>\n",
              "      <th>2</th>\n",
              "      <td>2</td>\n",
              "      <td>DOGO News</td>\n",
              "      <td>https://www.dogonews.com/2011/9/22/this-friday...</td>\n",
              "      <td>This Friday - Watch Out For The Satellite Debr...</td>\n",
              "      <td>Over the years, we have sent so many irretriev...</td>\n",
              "      <td>1</td>\n",
              "    </tr>\n",
              "    <tr>\n",
              "      <th>3</th>\n",
              "      <td>3</td>\n",
              "      <td>Atlantic</td>\n",
              "      <td>Not Found</td>\n",
              "      <td>Rex Tillerson Says Climate Change Is Real, but …</td>\n",
              "      <td>As chairman and CEO of ExxonMobil, Rex Tillers...</td>\n",
              "      <td>0</td>\n",
              "    </tr>\n",
              "    <tr>\n",
              "      <th>4</th>\n",
              "      <td>4</td>\n",
              "      <td>ROBINAGE</td>\n",
              "      <td>https://www.robinage.com/recipes/cheese-parant...</td>\n",
              "      <td>Cheese Parantha</td>\n",
              "      <td>What You Need: For the Parantha\\nWheat flour -...</td>\n",
              "      <td>1</td>\n",
              "    </tr>\n",
              "    <tr>\n",
              "      <th>...</th>\n",
              "      <td>...</td>\n",
              "      <td>...</td>\n",
              "      <td>...</td>\n",
              "      <td>...</td>\n",
              "      <td>...</td>\n",
              "      <td>...</td>\n",
              "    </tr>\n",
              "    <tr>\n",
              "      <th>24995</th>\n",
              "      <td>24995</td>\n",
              "      <td>Time for Kids</td>\n",
              "      <td>http://tfk.news/3vpxnQR</td>\n",
              "      <td>It's #WafflesAndMochi day! TFK Kid Reporter Be...</td>\n",
              "      <td>Take two puppets, add former First Lady Michel...</td>\n",
              "      <td>1</td>\n",
              "    </tr>\n",
              "    <tr>\n",
              "      <th>24996</th>\n",
              "      <td>24996</td>\n",
              "      <td>CNN</td>\n",
              "      <td>Not Found</td>\n",
              "      <td>Obama comes face to face with burdens of 9/11 ...</td>\n",
              "      <td>(CNN) President Barack Obama came face to fac...</td>\n",
              "      <td>0</td>\n",
              "    </tr>\n",
              "    <tr>\n",
              "      <th>24997</th>\n",
              "      <td>24997</td>\n",
              "      <td>Atlantic</td>\n",
              "      <td>Not Found</td>\n",
              "      <td>The New Reality TV</td>\n",
              "      <td>“Reality seems tired. It seems derivative,” a ...</td>\n",
              "      <td>0</td>\n",
              "    </tr>\n",
              "    <tr>\n",
              "      <th>24998</th>\n",
              "      <td>24998</td>\n",
              "      <td>DOGO News</td>\n",
              "      <td>https://www.dogonews.com/2010/5/8/a-heavenly-t...</td>\n",
              "      <td>This Mother's Day - Reach For The Stars!</td>\n",
              "      <td>Photo Credit: imothersday.net  If you are stil...</td>\n",
              "      <td>1</td>\n",
              "    </tr>\n",
              "    <tr>\n",
              "      <th>24999</th>\n",
              "      <td>24999</td>\n",
              "      <td>Breitbart</td>\n",
              "      <td>Not Found</td>\n",
              "      <td>Exclusive — Darrell Issa: ‘Tainted Justice Dep...</td>\n",
              "      <td>Rep. Darrell Issa ( ) the former chairman of t...</td>\n",
              "      <td>0</td>\n",
              "    </tr>\n",
              "  </tbody>\n",
              "</table>\n",
              "<p>25000 rows × 6 columns</p>\n",
              "</div>\n",
              "      <button class=\"colab-df-convert\" onclick=\"convertToInteractive('df-18016dc0-4438-4366-915d-006adb42e6f3')\"\n",
              "              title=\"Convert this dataframe to an interactive table.\"\n",
              "              style=\"display:none;\">\n",
              "        \n",
              "  <svg xmlns=\"http://www.w3.org/2000/svg\" height=\"24px\"viewBox=\"0 0 24 24\"\n",
              "       width=\"24px\">\n",
              "    <path d=\"M0 0h24v24H0V0z\" fill=\"none\"/>\n",
              "    <path d=\"M18.56 5.44l.94 2.06.94-2.06 2.06-.94-2.06-.94-.94-2.06-.94 2.06-2.06.94zm-11 1L8.5 8.5l.94-2.06 2.06-.94-2.06-.94L8.5 2.5l-.94 2.06-2.06.94zm10 10l.94 2.06.94-2.06 2.06-.94-2.06-.94-.94-2.06-.94 2.06-2.06.94z\"/><path d=\"M17.41 7.96l-1.37-1.37c-.4-.4-.92-.59-1.43-.59-.52 0-1.04.2-1.43.59L10.3 9.45l-7.72 7.72c-.78.78-.78 2.05 0 2.83L4 21.41c.39.39.9.59 1.41.59.51 0 1.02-.2 1.41-.59l7.78-7.78 2.81-2.81c.8-.78.8-2.07 0-2.86zM5.41 20L4 18.59l7.72-7.72 1.47 1.35L5.41 20z\"/>\n",
              "  </svg>\n",
              "      </button>\n",
              "      \n",
              "  <style>\n",
              "    .colab-df-container {\n",
              "      display:flex;\n",
              "      flex-wrap:wrap;\n",
              "      gap: 12px;\n",
              "    }\n",
              "\n",
              "    .colab-df-convert {\n",
              "      background-color: #E8F0FE;\n",
              "      border: none;\n",
              "      border-radius: 50%;\n",
              "      cursor: pointer;\n",
              "      display: none;\n",
              "      fill: #1967D2;\n",
              "      height: 32px;\n",
              "      padding: 0 0 0 0;\n",
              "      width: 32px;\n",
              "    }\n",
              "\n",
              "    .colab-df-convert:hover {\n",
              "      background-color: #E2EBFA;\n",
              "      box-shadow: 0px 1px 2px rgba(60, 64, 67, 0.3), 0px 1px 3px 1px rgba(60, 64, 67, 0.15);\n",
              "      fill: #174EA6;\n",
              "    }\n",
              "\n",
              "    [theme=dark] .colab-df-convert {\n",
              "      background-color: #3B4455;\n",
              "      fill: #D2E3FC;\n",
              "    }\n",
              "\n",
              "    [theme=dark] .colab-df-convert:hover {\n",
              "      background-color: #434B5C;\n",
              "      box-shadow: 0px 1px 3px 1px rgba(0, 0, 0, 0.15);\n",
              "      filter: drop-shadow(0px 1px 2px rgba(0, 0, 0, 0.3));\n",
              "      fill: #FFFFFF;\n",
              "    }\n",
              "  </style>\n",
              "\n",
              "      <script>\n",
              "        const buttonEl =\n",
              "          document.querySelector('#df-18016dc0-4438-4366-915d-006adb42e6f3 button.colab-df-convert');\n",
              "        buttonEl.style.display =\n",
              "          google.colab.kernel.accessAllowed ? 'block' : 'none';\n",
              "\n",
              "        async function convertToInteractive(key) {\n",
              "          const element = document.querySelector('#df-18016dc0-4438-4366-915d-006adb42e6f3');\n",
              "          const dataTable =\n",
              "            await google.colab.kernel.invokeFunction('convertToInteractive',\n",
              "                                                     [key], {});\n",
              "          if (!dataTable) return;\n",
              "\n",
              "          const docLinkHtml = 'Like what you see? Visit the ' +\n",
              "            '<a target=\"_blank\" href=https://colab.research.google.com/notebooks/data_table.ipynb>data table notebook</a>'\n",
              "            + ' to learn more about interactive tables.';\n",
              "          element.innerHTML = '';\n",
              "          dataTable['output_type'] = 'display_data';\n",
              "          await google.colab.output.renderOutput(dataTable, element);\n",
              "          const docLink = document.createElement('div');\n",
              "          docLink.innerHTML = docLinkHtml;\n",
              "          element.appendChild(docLink);\n",
              "        }\n",
              "      </script>\n",
              "    </div>\n",
              "  </div>\n",
              "  "
            ]
          },
          "metadata": {},
          "execution_count": 6
        }
      ],
      "source": [
        "dataset"
      ]
    },
    {
      "cell_type": "code",
      "execution_count": null,
      "metadata": {
        "colab": {
          "base_uri": "https://localhost:8080/",
          "height": 35
        },
        "id": "YgtLsntBmc57",
        "outputId": "ee5850fb-01b6-475f-f095-2b2adadde442"
      },
      "outputs": [
        {
          "data": {
            "application/vnd.google.colaboratory.intrinsic+json": {
              "type": "string"
            },
            "text/plain": [
              "'Science News for Students'"
            ]
          },
          "execution_count": 8,
          "metadata": {},
          "output_type": "execute_result"
        }
      ],
      "source": [
        "dataset[\"name\"].iloc[100]"
      ]
    },
    {
      "cell_type": "code",
      "execution_count": null,
      "metadata": {
        "colab": {
          "base_uri": "https://localhost:8080/",
          "height": 35
        },
        "id": "9zTKMc2jnDB7",
        "outputId": "6b144e7b-5708-463d-b84c-f5c20783b81d"
      },
      "outputs": [
        {
          "data": {
            "application/vnd.google.colaboratory.intrinsic+json": {
              "type": "string"
            },
            "text/plain": [
              "'https://www.sciencenewsforstudents.org/article/parasite-may-help-mussels-survive-heat-waves'"
            ]
          },
          "execution_count": 9,
          "metadata": {},
          "output_type": "execute_result"
        }
      ],
      "source": [
        "dataset[\"url\"].iloc[100]"
      ]
    },
    {
      "cell_type": "code",
      "execution_count": null,
      "metadata": {
        "colab": {
          "base_uri": "https://localhost:8080/",
          "height": 35
        },
        "id": "5RTyyAZ8nFOs",
        "outputId": "0a8729f9-17b1-4cb9-eba8-5511662f4c7d"
      },
      "outputs": [
        {
          "data": {
            "application/vnd.google.colaboratory.intrinsic+json": {
              "type": "string"
            },
            "text/plain": [
              "'Common parasite may help mussels survive heat waves'"
            ]
          },
          "execution_count": 10,
          "metadata": {},
          "output_type": "execute_result"
        }
      ],
      "source": [
        "dataset[\"title\"].iloc[100]"
      ]
    },
    {
      "cell_type": "code",
      "execution_count": null,
      "metadata": {
        "colab": {
          "base_uri": "https://localhost:8080/",
          "height": 142
        },
        "id": "zqKr_MqCnF9K",
        "outputId": "231733b3-7bb0-4d03-ddad-c3c9d68f0b98"
      },
      "outputs": [
        {
          "output_type": "execute_result",
          "data": {
            "text/plain": [
              "'parasit parasit answer provid benefit host consid microb long thought bring harm coastal mussel new research show may actual help host surviv danger heat wave call cyanobacteria sy oh bak teer ee uh bacteria bore mussel outer shell studi shown weaken mussel shell note kati nicastro marin biologist rhode univers south africa infest microb slow mussel growth reproduct even caus shell shed dark outer coat lighter color shell absorb less sunlight might keep host overh sunni day educ parent sign cheat sheet weekli updat help use scienc news student learn environ client key e mail address go thank sign problem sign nicastro teammat want know much heat protect microb might offer collect mussel europ retriev rocki shore northern portug mussel shell infest microb larg white patch non infest mussel normal dark shell research first remov mussel shell insert temperatur sensor insid shell place robomussel nine coastal site across europ northerli site orkney island north scotland southerli site portug dozen robomussel glu next live mussel rock intertid zone seawat would cover shell high tide low tide would expos air sun sensor show temperatur could drop degre celsiu degre fahrenheit shell submerg sensor took measur everi half hour august septemb end research ignor data three site weather record avail trend six site clear underwat dark shell robomussel warm faster sensor insid dark shell robomussel also reach higher temperatur lighter shell one team describ work june global chang biolog shell whiten microbi infest top left help mussel stay cool hot sunni day thermal imag bottom red yellow repres hotter temperatur k nicastro data suggest shell color could mean differ life death mussel microb infest nicastro say consid balanc posit neg effect appear microb sometim help mussel test nicastro team look death rate mussel three heat wave franc percent mussel die heat wave dark shell studi show dark shell mussel like c f warmer lighter shell suggest light shell mussel like surviv shell weaken microb usual view good thing mussel say christoph harley marin biologist univers british columbia vancouv canada heat emerg save mussel life say mussel may seem import creatur say harley low tide intertid mussel bed provid moist cool habitat hundr differ speci live among includ everyth hermit crab worm spong sea cucumb inde harley say mussel bed apart complex rocki shore'"
            ],
            "application/vnd.google.colaboratory.intrinsic+json": {
              "type": "string"
            }
          },
          "metadata": {},
          "execution_count": 35
        }
      ],
      "source": [
        "dataset[\"article\"].iloc[100]"
      ]
    },
    {
      "cell_type": "code",
      "execution_count": null,
      "metadata": {
        "colab": {
          "base_uri": "https://localhost:8080/"
        },
        "id": "ZFdcXcnQnTrk",
        "outputId": "8270dd6a-a12f-4ada-f43e-4022c5c1c4ff"
      },
      "outputs": [
        {
          "data": {
            "text/plain": [
              "1"
            ]
          },
          "execution_count": 12,
          "metadata": {},
          "output_type": "execute_result"
        }
      ],
      "source": [
        "dataset[\"kidFriendly\"].iloc[100]"
      ]
    },
    {
      "cell_type": "markdown",
      "metadata": {
        "id": "fwtsQsfhyz-2"
      },
      "source": [
        "##Data visualization"
      ]
    },
    {
      "cell_type": "code",
      "execution_count": null,
      "metadata": {
        "id": "N70lZ3_lWEqo"
      },
      "outputs": [],
      "source": [
        "speed = [0.1, 17.5, 40, 48, 52, 69, 88]\n",
        "\n",
        "lifespan = [2, 8, 70, 1.5, 25, 12, 28]\n",
        "\n",
        "index = ['snail', 'pig', 'elephant',\n",
        "\n",
        "         'rabbit', 'giraffe', 'coyote', 'horse']\n",
        "\n",
        "df = pd.DataFrame({'speed': speed,\n",
        "\n",
        "                   'lifespan': lifespan}, index=index)\n",
        "\n",
        "ax = df.plot.bar(rot=0)"
      ]
    },
    {
      "cell_type": "code",
      "execution_count": null,
      "metadata": {
        "colab": {
          "base_uri": "https://localhost:8080/",
          "height": 280
        },
        "id": "YJ1fs_PQy4VM",
        "outputId": "a3da7348-7809-4250-d13d-c6cfd50b66dc"
      },
      "outputs": [
        {
          "data": {
            "text/plain": [
              "<matplotlib.axes._subplots.AxesSubplot at 0x7f00dc1848d0>"
            ]
          },
          "execution_count": 9,
          "metadata": {},
          "output_type": "execute_result"
        },
        {
          "data": {
            "image/png": "[encoded data removed]",
            "text/plain": [
              "<Figure size 432x288 with 1 Axes>"
            ]
          },
          "metadata": {},
          "output_type": "display_data"
        }
      ],
      "source": [
        "dataset.kidFriendly.value_counts().plot.bar(color=['lightgreen', 'pink'])"
      ]
    },
    {
      "cell_type": "code",
      "execution_count": null,
      "metadata": {
        "colab": {
          "base_uri": "https://localhost:8080/",
          "height": 72
        },
        "id": "mQzGoQUJ-Ngm",
        "outputId": "78d48dd3-d03e-472f-82dc-d97439162786"
      },
      "outputs": [
        {
          "data": {
            "text/plain": [
              "<matplotlib.axes._subplots.AxesSubplot at 0x7f9a7f17c390>"
            ]
          },
          "execution_count": 11,
          "metadata": {},
          "output_type": "execute_result"
        },
        {
          "data": {
            "image/png": "[encoded data removed]",
            "text/plain": [
              "<Figure size 432x288 with 1 Axes>"
            ]
          },
          "metadata": {},
          "output_type": "display_data"
        }
      ],
      "source": [
        "dataset.name.value_counts().plot.bar(color=['C0', 'C1', 'C2','C3','C4','C5','C6','C7','C8','C9','C10'])"
      ]
    },
    {
      "cell_type": "code",
      "execution_count": null,
      "metadata": {
        "colab": {
          "base_uri": "https://localhost:8080/",
          "height": 72
        },
        "id": "Qbmc453VDjdI",
        "outputId": "d44e8a09-fb9b-442c-e918-e385d499263d"
      },
      "outputs": [
        {
          "data": {
            "text/plain": [
              "<matplotlib.axes._subplots.AxesSubplot at 0x7f9a80584650>"
            ]
          },
          "execution_count": 12,
          "metadata": {},
          "output_type": "execute_result"
        },
        {
          "data": {
            "image/png": "[encoded data removed]",
            "text/plain": [
              "<Figure size 432x288 with 1 Axes>"
            ]
          },
          "metadata": {},
          "output_type": "display_data"
        }
      ],
      "source": [
        "temp = dataset.query('kidFriendly == 0')\n",
        "temp.name.value_counts().plot.bar(color=['C0', 'C1', 'C2','C3','C4','C5','C6','C7','C8','C9','C10'],title='Newspaper Distribution for Adult News', xlabel='Newspaper Name')"
      ]
    },
    {
      "cell_type": "code",
      "execution_count": null,
      "metadata": {
        "colab": {
          "base_uri": "https://localhost:8080/",
          "height": 72
        },
        "id": "MuBgvINc3oAA",
        "outputId": "f77b6daa-f88b-49f8-d5fc-16773f68531b"
      },
      "outputs": [
        {
          "data": {
            "text/plain": [
              "<matplotlib.axes._subplots.AxesSubplot at 0x7f9a7eb50350>"
            ]
          },
          "execution_count": 13,
          "metadata": {},
          "output_type": "execute_result"
        },
        {
          "data": {
            "image/png": "[encoded data removed]",
            "text/plain": [
              "<Figure size 432x288 with 1 Axes>"
            ]
          },
          "metadata": {},
          "output_type": "display_data"
        }
      ],
      "source": [
        "temp2 = dataset.query('kidFriendly == 1')\n",
        "temp2.name.value_counts().plot.bar(color=['C0', 'C1', 'C2','C3','C4','C5','C6','C7','C8','C9','C10'],title='Newspaper Distribution for Kids News', xlabel='Newspaper Name')"
      ]
    },
    {
      "cell_type": "code",
      "execution_count": null,
      "metadata": {
        "id": "-aa1VpbXWANF"
      },
      "outputs": [],
      "source": [
        "ind = dataset.index[dataset['article'].apply(lambda x: len(str(x).split())) <50 ]"
      ]
    },
    {
      "cell_type": "code",
      "execution_count": null,
      "metadata": {
        "colab": {
          "base_uri": "https://localhost:8080/"
        },
        "id": "VP95L0QjWWfE",
        "outputId": "6a3f1c6b-fe96-4fa0-ed62-369d876b47bf"
      },
      "outputs": [
        {
          "data": {
            "text/plain": [
              "Unnamed: 0                                                 12389\n",
              "name                                            Business Insider\n",
              "url                                                    Not Found\n",
              "title          Hillary Clinton wins Puerto Rico Democratic pr...\n",
              "article        ’’ ”SAN JUAN, Puerto Rico (AP)    Hillary Clin...\n",
              "kidFriendly                                                    0\n",
              "Name: 12389, dtype: object"
            ]
          },
          "execution_count": 15,
          "metadata": {},
          "output_type": "execute_result"
        }
      ],
      "source": [
        "dataset.loc[12389]"
      ]
    },
    {
      "cell_type": "code",
      "execution_count": null,
      "metadata": {
        "colab": {
          "base_uri": "https://localhost:8080/"
        },
        "id": "7ZHxm4enWMME",
        "outputId": "bb2ed95a-ec08-461e-cc59-9fb8ea9e2c77"
      },
      "outputs": [
        {
          "data": {
            "text/plain": [
              "Int64Index([], dtype='int64')"
            ]
          },
          "execution_count": 16,
          "metadata": {},
          "output_type": "execute_result"
        }
      ],
      "source": [
        "ind"
      ]
    },
    {
      "cell_type": "code",
      "execution_count": null,
      "metadata": {
        "id": "7m-jrjhe0uMM"
      },
      "outputs": [],
      "source": [
        "article_len = dataset['article'].astype(str).apply(len)\n",
        "word_count = dataset['article'].apply(lambda x: len(str(x).split()))"
      ]
    },
    {
      "cell_type": "code",
      "execution_count": null,
      "metadata": {
        "id": "5zGOqS1SIoG9"
      },
      "outputs": [],
      "source": [
        "article_len1 = temp['article'].astype(str).apply(len)\n",
        "word_count1 = temp['article'].apply(lambda x: len(str(x).split()))"
      ]
    },
    {
      "cell_type": "code",
      "execution_count": null,
      "metadata": {
        "id": "xNn0kY4cIxpc"
      },
      "outputs": [],
      "source": [
        "article_len2 = temp2['article'].astype(str).apply(len)\n",
        "word_count2 = temp2['article'].apply(lambda x: len(str(x).split()))"
      ]
    },
    {
      "cell_type": "code",
      "execution_count": null,
      "metadata": {
        "colab": {
          "base_uri": "https://localhost:8080/"
        },
        "id": "CrTMmsYFI2Rb",
        "outputId": "616b0063-f4ad-4a18-ee18-9fcf423a1cfc"
      },
      "outputs": [
        {
          "name": "stdout",
          "output_type": "stream",
          "text": [
            "507\n",
            "74920\n",
            "100\n",
            "9639\n",
            "504\n",
            "29735\n",
            "100\n",
            "5249\n"
          ]
        }
      ],
      "source": [
        "print(min(article_len1))\n",
        "print(max(article_len1))\n",
        "print(min(word_count1))\n",
        "print(max(word_count1))\n",
        "\n",
        "print(min(article_len2))\n",
        "print(max(article_len2))\n",
        "print(min(word_count2))\n",
        "print(max(word_count2))"
      ]
    },
    {
      "cell_type": "code",
      "execution_count": null,
      "metadata": {
        "id": "nX1DhUggDtvF"
      },
      "outputs": [],
      "source": [
        "dataset = dataset.dropna(subset=['article'])"
      ]
    },
    {
      "cell_type": "code",
      "execution_count": null,
      "metadata": {
        "colab": {
          "base_uri": "https://localhost:8080/",
          "height": 1000
        },
        "id": "kis4E9R5ESqg",
        "outputId": "20cfc59d-b03c-4187-df6f-0a1ec8e3d0b8"
      },
      "outputs": [
        {
          "data": {
            "application/vnd.google.colaboratory.intrinsic+json": {
              "type": "string"
            },
            "text/plain": [
              "'An Arizona Republican senator, who was most adamantly opposed to   Donald J. Trump, is in for a tough reelection campaign in 2018, according to a Remington Research Group poll. The poll was conducted Nov. 15 and Nov. 16 with 1, 122 likely Republican primary voters in that state and carries a 2. 93 percent margin of error. [“Jeff Flake is currently in a very precarious position,” said Titus Bond, director of Remington Research Group. “The data show that Flake’s image amongst Republican primary voters is in bad shape and that carries over to the ballot where he only realizes 35 percent support on the high end. It remains early but he is certainly the most vulnerable incumbent to a primary challenge. ”  The data show that Donald Trump is popular amongst Arizona’s Republican primary electorate.   percent hold a favorable view of the   while only 10 percent view him unfavorably, Bond said. Flake is viewed unfavorably by roughly half of Republicans. Thirty percent view Flake favorably, while 49 percent view the senator in a negative light. The poll showed that State Treasurer Jeff DeWit leads Flake in the    with 42 percent support compared to Flake’s 33 percent and 25 percent undecided. DeWit was the chief operating officer of the Trump campaign. Dr. Kelli Ward, who lost to Sen. John McCain in the 2016 Arizona GOP primary, told Breitbart News she is challenging Flake in 2018. DeWit has not made an announcement. Both Arizona senators skipped the 2016 Republican National Convention —  Flake told reporters he had to mow his lawn. Ward is tied with Flake in the    with both garnering the support of 35 percent of Republicans and 30 percent undecided. In the   contest, DeWit leads the field with 38 percent, followed by Flake with 30 percent, Ward with 15 percent, and 17 percent undecided. In 2016, Flake made an effort to embrace President Barack Obama, while exhibiting hostility to Trump. Flake defended the president’s normalizing relations with Cuba and joined Obama for ceremonies there. The senator called for the   Senate to move forward with the president’s nomination of Merrick Garland for the Supreme Court. Flake joked that Trump would throw him into prison at Gitmo and even announced he was voting for Evan McMullin, the former senior policy director for Rep. Cathy McMorris Rodgers (R. .) for president, instead of Trump. Bond told Breitbart News Flake could pay a price for his opposition of Trump. “Key takeaway is that it appears Jeff Flake’s criticisms of Donald Trump has left him vulnerable to a serious primary challenge in 2018,” Bond said. “The data show that Trump has unified the Republican base in Arizona. Jeff Flake has polarized conservatives in his state, and you cannot win a Republican primary without them,” he said. “Flake has some serious work to do in the next year. ” The survey was paid for and commissioned independent of any campaign or committee.'"
            ]
          },
          "execution_count": 19,
          "metadata": {},
          "output_type": "execute_result"
        }
      ],
      "source": [
        "dataset.loc[758].article"
      ]
    },
    {
      "cell_type": "code",
      "execution_count": null,
      "metadata": {
        "colab": {
          "base_uri": "https://localhost:8080/",
          "height": 131
        },
        "id": "Umz9oPQoC9e9",
        "outputId": "4205e4d4-ee51-4375-f519-3a27d4e44264"
      },
      "outputs": [
        {
          "data": {
            "text/html": [
              "\n",
              "  <div id=\"df-222f2af1-dee2-4310-8720-7874aec339f0\">\n",
              "    <div class=\"colab-df-container\">\n",
              "      <div>\n",
              "<style scoped>\n",
              "    .dataframe tbody tr th:only-of-type {\n",
              "        vertical-align: middle;\n",
              "    }\n",
              "\n",
              "    .dataframe tbody tr th {\n",
              "        vertical-align: top;\n",
              "    }\n",
              "\n",
              "    .dataframe thead th {\n",
              "        text-align: right;\n",
              "    }\n",
              "</style>\n",
              "<table border=\"1\" class=\"dataframe\">\n",
              "  <thead>\n",
              "    <tr style=\"text-align: right;\">\n",
              "      <th></th>\n",
              "      <th>Unnamed: 0</th>\n",
              "      <th>name</th>\n",
              "      <th>url</th>\n",
              "      <th>title</th>\n",
              "      <th>article</th>\n",
              "      <th>kidFriendly</th>\n",
              "    </tr>\n",
              "  </thead>\n",
              "  <tbody>\n",
              "  </tbody>\n",
              "</table>\n",
              "</div>\n",
              "      <button class=\"colab-df-convert\" onclick=\"convertToInteractive('df-222f2af1-dee2-4310-8720-7874aec339f0')\"\n",
              "              title=\"Convert this dataframe to an interactive table.\"\n",
              "              style=\"display:none;\">\n",
              "        \n",
              "  <svg xmlns=\"http://www.w3.org/2000/svg\" height=\"24px\"viewBox=\"0 0 24 24\"\n",
              "       width=\"24px\">\n",
              "    <path d=\"M0 0h24v24H0V0z\" fill=\"none\"/>\n",
              "    <path d=\"M18.56 5.44l.94 2.06.94-2.06 2.06-.94-2.06-.94-.94-2.06-.94 2.06-2.06.94zm-11 1L8.5 8.5l.94-2.06 2.06-.94-2.06-.94L8.5 2.5l-.94 2.06-2.06.94zm10 10l.94 2.06.94-2.06 2.06-.94-2.06-.94-.94-2.06-.94 2.06-2.06.94z\"/><path d=\"M17.41 7.96l-1.37-1.37c-.4-.4-.92-.59-1.43-.59-.52 0-1.04.2-1.43.59L10.3 9.45l-7.72 7.72c-.78.78-.78 2.05 0 2.83L4 21.41c.39.39.9.59 1.41.59.51 0 1.02-.2 1.41-.59l7.78-7.78 2.81-2.81c.8-.78.8-2.07 0-2.86zM5.41 20L4 18.59l7.72-7.72 1.47 1.35L5.41 20z\"/>\n",
              "  </svg>\n",
              "      </button>\n",
              "      \n",
              "  <style>\n",
              "    .colab-df-container {\n",
              "      display:flex;\n",
              "      flex-wrap:wrap;\n",
              "      gap: 12px;\n",
              "    }\n",
              "\n",
              "    .colab-df-convert {\n",
              "      background-color: #E8F0FE;\n",
              "      border: none;\n",
              "      border-radius: 50%;\n",
              "      cursor: pointer;\n",
              "      display: none;\n",
              "      fill: #1967D2;\n",
              "      height: 32px;\n",
              "      padding: 0 0 0 0;\n",
              "      width: 32px;\n",
              "    }\n",
              "\n",
              "    .colab-df-convert:hover {\n",
              "      background-color: #E2EBFA;\n",
              "      box-shadow: 0px 1px 2px rgba(60, 64, 67, 0.3), 0px 1px 3px 1px rgba(60, 64, 67, 0.15);\n",
              "      fill: #174EA6;\n",
              "    }\n",
              "\n",
              "    [theme=dark] .colab-df-convert {\n",
              "      background-color: #3B4455;\n",
              "      fill: #D2E3FC;\n",
              "    }\n",
              "\n",
              "    [theme=dark] .colab-df-convert:hover {\n",
              "      background-color: #434B5C;\n",
              "      box-shadow: 0px 1px 3px 1px rgba(0, 0, 0, 0.15);\n",
              "      filter: drop-shadow(0px 1px 2px rgba(0, 0, 0, 0.3));\n",
              "      fill: #FFFFFF;\n",
              "    }\n",
              "  </style>\n",
              "\n",
              "      <script>\n",
              "        const buttonEl =\n",
              "          document.querySelector('#df-222f2af1-dee2-4310-8720-7874aec339f0 button.colab-df-convert');\n",
              "        buttonEl.style.display =\n",
              "          google.colab.kernel.accessAllowed ? 'block' : 'none';\n",
              "\n",
              "        async function convertToInteractive(key) {\n",
              "          const element = document.querySelector('#df-222f2af1-dee2-4310-8720-7874aec339f0');\n",
              "          const dataTable =\n",
              "            await google.colab.kernel.invokeFunction('convertToInteractive',\n",
              "                                                     [key], {});\n",
              "          if (!dataTable) return;\n",
              "\n",
              "          const docLinkHtml = 'Like what you see? Visit the ' +\n",
              "            '<a target=\"_blank\" href=https://colab.research.google.com/notebooks/data_table.ipynb>data table notebook</a>'\n",
              "            + ' to learn more about interactive tables.';\n",
              "          element.innerHTML = '';\n",
              "          dataTable['output_type'] = 'display_data';\n",
              "          await google.colab.output.renderOutput(dataTable, element);\n",
              "          const docLink = document.createElement('div');\n",
              "          docLink.innerHTML = docLinkHtml;\n",
              "          element.appendChild(docLink);\n",
              "        }\n",
              "      </script>\n",
              "    </div>\n",
              "  </div>\n",
              "  "
            ],
            "text/plain": [
              "Empty DataFrame\n",
              "Columns: [Unnamed: 0, name, url, title, article, kidFriendly]\n",
              "Index: []"
            ]
          },
          "execution_count": 20,
          "metadata": {},
          "output_type": "execute_result"
        }
      ],
      "source": [
        "dataset.query('article == \"\"')"
      ]
    },
    {
      "cell_type": "code",
      "execution_count": null,
      "metadata": {
        "colab": {
          "base_uri": "https://localhost:8080/"
        },
        "id": "oCatoifH9kCJ",
        "outputId": "283325e4-a1dc-4c2a-eaa6-0a0f1a2c5863"
      },
      "outputs": [
        {
          "data": {
            "text/plain": [
              "0        13915\n",
              "1         1243\n",
              "2         1838\n",
              "3         5784\n",
              "4          878\n",
              "         ...  \n",
              "24995      744\n",
              "24996     7810\n",
              "24997     7606\n",
              "24998     1233\n",
              "24999     2898\n",
              "Name: article, Length: 25000, dtype: int64"
            ]
          },
          "execution_count": 21,
          "metadata": {},
          "output_type": "execute_result"
        }
      ],
      "source": [
        "article_len"
      ]
    },
    {
      "cell_type": "code",
      "execution_count": null,
      "metadata": {
        "colab": {
          "base_uri": "https://localhost:8080/"
        },
        "id": "YeRSoenAE7LR",
        "outputId": "23787ea6-1a0d-4992-bdd4-b3fb82fb95ca"
      },
      "outputs": [
        {
          "data": {
            "text/plain": [
              "0        2353\n",
              "1         207\n",
              "2         311\n",
              "3         965\n",
              "4         154\n",
              "         ... \n",
              "24995     119\n",
              "24996    1355\n",
              "24997    1287\n",
              "24998     211\n",
              "24999     459\n",
              "Name: article, Length: 25000, dtype: int64"
            ]
          },
          "execution_count": 22,
          "metadata": {},
          "output_type": "execute_result"
        }
      ],
      "source": [
        "word_count"
      ]
    },
    {
      "cell_type": "code",
      "execution_count": null,
      "metadata": {
        "colab": {
          "base_uri": "https://localhost:8080/"
        },
        "id": "oCaqli0R9ucY",
        "outputId": "c65806cd-8ae6-422e-c4f3-09d58f6f821f"
      },
      "outputs": [
        {
          "data": {
            "text/plain": [
              "504"
            ]
          },
          "execution_count": 23,
          "metadata": {},
          "output_type": "execute_result"
        }
      ],
      "source": [
        "min(article_len)"
      ]
    },
    {
      "cell_type": "code",
      "execution_count": null,
      "metadata": {
        "colab": {
          "base_uri": "https://localhost:8080/"
        },
        "id": "7Xetjcme0bL1",
        "outputId": "a8c90404-e1e1-4fa0-d7d1-dd696f321583"
      },
      "outputs": [
        {
          "data": {
            "text/plain": [
              "74920"
            ]
          },
          "execution_count": 24,
          "metadata": {},
          "output_type": "execute_result"
        }
      ],
      "source": [
        "max(article_len)"
      ]
    },
    {
      "cell_type": "code",
      "execution_count": null,
      "metadata": {
        "colab": {
          "base_uri": "https://localhost:8080/"
        },
        "id": "qad4xIYWG5Wj",
        "outputId": "256a1599-e24e-4f7b-d8e4-b36148d25f07"
      },
      "outputs": [
        {
          "data": {
            "text/plain": [
              "100"
            ]
          },
          "execution_count": 25,
          "metadata": {},
          "output_type": "execute_result"
        }
      ],
      "source": [
        "min(word_count)"
      ]
    },
    {
      "cell_type": "code",
      "execution_count": null,
      "metadata": {
        "colab": {
          "base_uri": "https://localhost:8080/"
        },
        "id": "ujwWudl3xDrD",
        "outputId": "df1bcfdb-bd36-4ee8-8562-87e5411c1f4d"
      },
      "outputs": [
        {
          "data": {
            "text/plain": [
              "9639"
            ]
          },
          "execution_count": 26,
          "metadata": {},
          "output_type": "execute_result"
        }
      ],
      "source": [
        "max(word_count)"
      ]
    },
    {
      "cell_type": "code",
      "execution_count": null,
      "metadata": {
        "colab": {
          "base_uri": "https://localhost:8080/",
          "height": 72
        },
        "id": "cd5FVSW11R5w",
        "outputId": "0865106f-dcb9-4482-99c6-c8662dfb1a63"
      },
      "outputs": [
        {
          "data": {
            "text/plain": [
              "<matplotlib.axes._subplots.AxesSubplot at 0x7f9a7eada910>"
            ]
          },
          "execution_count": 27,
          "metadata": {},
          "output_type": "execute_result"
        },
        {
          "data": {
            "image/png": "[encoded data removed]",
            "text/plain": [
              "<Figure size 432x288 with 1 Axes>"
            ]
          },
          "metadata": {},
          "output_type": "display_data"
        }
      ],
      "source": [
        "article_len.plot(\n",
        "    kind = 'hist',\n",
        "    xlabel = 'article_length',\n",
        "    ylabel = 'count',\n",
        "    title='Article Length Count')"
      ]
    },
    {
      "cell_type": "code",
      "execution_count": null,
      "metadata": {
        "colab": {
          "base_uri": "https://localhost:8080/",
          "height": 72
        },
        "id": "HMCAmrjkvssI",
        "outputId": "a8edbb2d-e2b0-4de4-d324-2ab9b947eb49"
      },
      "outputs": [
        {
          "data": {
            "text/plain": [
              "<matplotlib.axes._subplots.AxesSubplot at 0x7f9a7ea91050>"
            ]
          },
          "execution_count": 28,
          "metadata": {},
          "output_type": "execute_result"
        },
        {
          "data": {
            "image/png": "[encoded data removed]",
            "text/plain": [
              "<Figure size 432x288 with 1 Axes>"
            ]
          },
          "metadata": {},
          "output_type": "display_data"
        }
      ],
      "source": [
        "temp.plot(\n",
        "    kind = 'hist',\n",
        "    xlabel = 'article_length',\n",
        "    ylabel = 'count',\n",
        "    title='Article Length Count')"
      ]
    },
    {
      "cell_type": "code",
      "execution_count": null,
      "metadata": {
        "colab": {
          "base_uri": "https://localhost:8080/",
          "height": 72
        },
        "id": "7IQ9sQhpvvrM",
        "outputId": "bc508e73-1387-478c-cbc4-994b13b7a5e9"
      },
      "outputs": [
        {
          "data": {
            "text/plain": [
              "<matplotlib.axes._subplots.AxesSubplot at 0x7f9a7e9a5b10>"
            ]
          },
          "execution_count": 29,
          "metadata": {},
          "output_type": "execute_result"
        },
        {
          "data": {
            "image/png": "[encoded data removed]",
            "text/plain": [
              "<Figure size 432x288 with 1 Axes>"
            ]
          },
          "metadata": {},
          "output_type": "display_data"
        }
      ],
      "source": [
        "temp2.plot(\n",
        "    kind = 'hist',\n",
        "    xlabel = 'article_length',\n",
        "    ylabel = 'count',\n",
        "    title='Article Length Count')"
      ]
    },
    {
      "cell_type": "code",
      "execution_count": null,
      "metadata": {
        "colab": {
          "base_uri": "https://localhost:8080/",
          "height": 72
        },
        "id": "dUBLHhVHFA8q",
        "outputId": "0dfaf850-3903-4e52-e910-b95625186acb"
      },
      "outputs": [
        {
          "data": {
            "text/plain": [
              "<matplotlib.axes._subplots.AxesSubplot at 0x7f9a7eb629d0>"
            ]
          },
          "execution_count": 30,
          "metadata": {},
          "output_type": "execute_result"
        },
        {
          "data": {
            "image/png": "[encoded data removed]",
            "text/plain": [
              "<Figure size 432x288 with 1 Axes>"
            ]
          },
          "metadata": {},
          "output_type": "display_data"
        }
      ],
      "source": [
        "word_count.plot(\n",
        "    kind = 'hist',\n",
        "    xlabel = 'word_count',\n",
        "    ylabel = 'count',\n",
        "    title='Article Word Count')"
      ]
    },
    {
      "cell_type": "markdown",
      "metadata": {
        "id": "vLybSKzTJCA7"
      },
      "source": [
        "##NLP"
      ]
    },
    {
      "cell_type": "code",
      "execution_count": null,
      "metadata": {
        "id": "TYVov69hUyFT"
      },
      "outputs": [],
      "source": [
        "X =  dataset.iloc[:, 4].values\n",
        "y = dataset.iloc[:, 5].values"
      ]
    },
    {
      "cell_type": "code",
      "source": [
        "from sklearn.model_selection import train_test_split\n",
        "X_train,X_test,y_train,y_test =train_test_split(X, y, test_size=0.20, random_state=1)\n",
        "\n",
        "from sklearn.metrics import accuracy_score\n",
        "from sklearn.metrics import f1_score\n",
        "from sklearn.metrics import precision_score\n",
        "from sklearn.metrics import recall_score\n",
        "X_test, X_valid, y_test, y_valid  = train_test_split(X_test, y_test, test_size=0.50, random_state=1) "
      ],
      "metadata": {
        "id": "jBXvmcTpOsDI"
      },
      "execution_count": null,
      "outputs": []
    },
    {
      "cell_type": "code",
      "execution_count": null,
      "metadata": {
        "colab": {
          "base_uri": "https://localhost:8080/"
        },
        "id": "Mlz6qC5j-vJb",
        "outputId": "242acae2-a43d-4350-88e5-9c8df6b99978"
      },
      "outputs": [
        {
          "output_type": "execute_result",
          "data": {
            "text/plain": [
              "(20000,)"
            ]
          },
          "metadata": {},
          "execution_count": 10
        }
      ],
      "source": [
        "X_train.shape"
      ]
    },
    {
      "cell_type": "code",
      "execution_count": null,
      "metadata": {
        "colab": {
          "base_uri": "https://localhost:8080/"
        },
        "id": "ua3Hbo5s-zaI",
        "outputId": "483cd798-d1c4-4a6e-97d8-ee1fe015563e"
      },
      "outputs": [
        {
          "output_type": "execute_result",
          "data": {
            "text/plain": [
              "(2500,)"
            ]
          },
          "metadata": {},
          "execution_count": 11
        }
      ],
      "source": [
        "X_test.shape"
      ]
    },
    {
      "cell_type": "code",
      "execution_count": null,
      "metadata": {
        "colab": {
          "base_uri": "https://localhost:8080/"
        },
        "id": "Vc9ihYce-2g0",
        "outputId": "9f11533d-e12f-4e36-b2af-0534aa384da5"
      },
      "outputs": [
        {
          "output_type": "execute_result",
          "data": {
            "text/plain": [
              "(2500,)"
            ]
          },
          "metadata": {},
          "execution_count": 12
        }
      ],
      "source": [
        "X_valid.shape"
      ]
    },
    {
      "cell_type": "markdown",
      "metadata": {
        "id": "Ehl_FQc7JNcm"
      },
      "source": [
        "##BERT"
      ]
    },
    {
      "cell_type": "code",
      "execution_count": null,
      "metadata": {
        "id": "Z-jEnv2Nqsh5",
        "colab": {
          "base_uri": "https://localhost:8080/"
        },
        "outputId": "e30cb73c-dec6-4bef-f610-6d2b591848e4"
      },
      "outputs": [
        {
          "output_type": "stream",
          "name": "stdout",
          "text": [
            "\u001b[K     |████████████████████████████████| 4.9 MB 7.5 MB/s \n",
            "\u001b[?25h"
          ]
        }
      ],
      "source": [
        "# A dependency of the preprocessing for BERT inputs\n",
        "!pip install -q -U \"tensorflow-text==2.8.*\""
      ]
    },
    {
      "cell_type": "code",
      "source": [
        "pip install tensorflow-addons"
      ],
      "metadata": {
        "colab": {
          "base_uri": "https://localhost:8080/"
        },
        "id": "L8U3R4A0mTgZ",
        "outputId": "18e5dea2-8220-4f24-a985-1e2d487bedea"
      },
      "execution_count": null,
      "outputs": [
        {
          "output_type": "stream",
          "name": "stdout",
          "text": [
            "Looking in indexes: https://pypi.org/simple, https://us-python.pkg.dev/colab-wheels/public/simple/\n",
            "Collecting tensorflow-addons\n",
            "  Downloading tensorflow_addons-0.17.1-cp37-cp37m-manylinux_2_17_x86_64.manylinux2014_x86_64.whl (1.1 MB)\n",
            "\u001b[K     |████████████████████████████████| 1.1 MB 8.2 MB/s \n",
            "\u001b[?25hRequirement already satisfied: packaging in /usr/local/lib/python3.7/dist-packages (from tensorflow-addons) (21.3)\n",
            "Requirement already satisfied: typeguard>=2.7 in /usr/local/lib/python3.7/dist-packages (from tensorflow-addons) (2.7.1)\n",
            "Requirement already satisfied: pyparsing!=3.0.5,>=2.0.2 in /usr/local/lib/python3.7/dist-packages (from packaging->tensorflow-addons) (3.0.9)\n",
            "Installing collected packages: tensorflow-addons\n",
            "Successfully installed tensorflow-addons-0.17.1\n"
          ]
        }
      ]
    },
    {
      "cell_type": "code",
      "execution_count": null,
      "metadata": {
        "id": "Tgb4qS-xa6ze"
      },
      "outputs": [],
      "source": [
        "import tensorflow\n",
        "from keras.models import Sequential\n",
        "from tensorflow.keras import regularizers\n",
        "from tensorflow.keras import layers\n",
        "from tensorflow.keras import losses\n",
        "from keras.layers import Dense, Dropout\n",
        "from keras.initializers import Constant\n",
        "from tensorflow.keras.optimizers import Adam\n",
        "import tensorflow_hub as hub\n",
        "import tensorflow_text as text"
      ]
    },
    {
      "cell_type": "code",
      "execution_count": null,
      "metadata": {
        "id": "je-IruS-bBWt"
      },
      "outputs": [],
      "source": [
        "bert_preprocess = hub.KerasLayer(\"https://tfhub.dev/tensorflow/bert_en_uncased_preprocess/3\")\n",
        "bert_encoder = hub.KerasLayer(\"https://tfhub.dev/tensorflow/bert_en_uncased_L-12_H-768_A-12/4\")"
      ]
    },
    {
      "cell_type": "code",
      "execution_count": null,
      "metadata": {
        "id": "5xIW6leWbLoR"
      },
      "outputs": [],
      "source": [
        "text_input = tensorflow.keras.layers.Input(shape=(), dtype=tensorflow.string, name='text')\n",
        "preprocessed_text = bert_preprocess(text_input)\n",
        "outputs = bert_encoder(preprocessed_text)"
      ]
    },
    {
      "cell_type": "code",
      "execution_count": null,
      "metadata": {
        "id": "y2p0t79vbVVI"
      },
      "outputs": [],
      "source": [
        "l = tensorflow.keras.layers.Dropout(0.01, name=\"dropout\")(outputs['pooled_output'])\n",
        "l = tensorflow.keras.layers.Dense(128, activation='sigmoid', name=\"hidden1\")(l)\n",
        "l = tensorflow.keras.layers.Dense(32, activation='sigmoid', name=\"hidden2\")(l)\n",
        "l = tensorflow.keras.layers.Dense(1, activation='sigmoid', name=\"output\")(l)"
      ]
    },
    {
      "cell_type": "code",
      "execution_count": null,
      "metadata": {
        "id": "qNWaJXiybat8"
      },
      "outputs": [],
      "source": [
        "model = tensorflow.keras.Model(inputs=[text_input], outputs = [l])"
      ]
    },
    {
      "cell_type": "code",
      "source": [
        "optimizer = Adam(learning_rate=3e-4)\n",
        "model.compile(loss=\"binary_crossentropy\", optimizer=optimizer, metrics=[\"accuracy\"])"
      ],
      "metadata": {
        "id": "JK9_hPs24EK0"
      },
      "execution_count": null,
      "outputs": []
    },
    {
      "cell_type": "code",
      "source": [
        "from keras import callbacks\n",
        "earlystopping = callbacks.EarlyStopping(monitor =\"val_loss\", \n",
        "                                        mode =\"auto\", patience = 5, \n",
        "                                        restore_best_weights = True)"
      ],
      "metadata": {
        "id": "ik4HS_bT37dk"
      },
      "execution_count": null,
      "outputs": []
    },
    {
      "cell_type": "markdown",
      "source": [
        "##Random state = 100 with callback"
      ],
      "metadata": {
        "id": "s4CV2kq8_a85"
      }
    },
    {
      "cell_type": "code",
      "source": [
        "history = model.fit(\n",
        "    X_train, y_train, epochs=11, validation_data=(X_valid, y_valid),callbacks = [earlystopping]\n",
        ")"
      ],
      "metadata": {
        "colab": {
          "base_uri": "https://localhost:8080/"
        },
        "id": "-ea7D7rk_YuT",
        "outputId": "a9a34d48-0ca3-4164-afc5-ffbca3fc1640"
      },
      "execution_count": null,
      "outputs": [
        {
          "output_type": "stream",
          "name": "stdout",
          "text": [
            "Epoch 1/11\n",
            "625/625 [==============================] - 271s 415ms/step - loss: 0.3612 - accuracy: 0.8552 - val_loss: 0.2116 - val_accuracy: 0.9292\n",
            "Epoch 2/11\n",
            "625/625 [==============================] - 263s 421ms/step - loss: 0.1836 - accuracy: 0.9315 - val_loss: 0.1751 - val_accuracy: 0.9320\n",
            "Epoch 3/11\n",
            "625/625 [==============================] - 263s 421ms/step - loss: 0.1619 - accuracy: 0.9383 - val_loss: 0.1478 - val_accuracy: 0.9440\n",
            "Epoch 4/11\n",
            "625/625 [==============================] - 263s 421ms/step - loss: 0.1490 - accuracy: 0.9444 - val_loss: 0.1420 - val_accuracy: 0.9456\n",
            "Epoch 5/11\n",
            "625/625 [==============================] - 263s 420ms/step - loss: 0.1438 - accuracy: 0.9461 - val_loss: 0.1495 - val_accuracy: 0.9416\n",
            "Epoch 6/11\n",
            "625/625 [==============================] - 263s 420ms/step - loss: 0.1367 - accuracy: 0.9486 - val_loss: 0.1299 - val_accuracy: 0.9532\n",
            "Epoch 7/11\n",
            "625/625 [==============================] - 263s 420ms/step - loss: 0.1383 - accuracy: 0.9473 - val_loss: 0.1367 - val_accuracy: 0.9500\n",
            "Epoch 8/11\n",
            "625/625 [==============================] - 263s 421ms/step - loss: 0.1314 - accuracy: 0.9508 - val_loss: 0.1229 - val_accuracy: 0.9544\n",
            "Epoch 9/11\n",
            "625/625 [==============================] - 263s 420ms/step - loss: 0.1305 - accuracy: 0.9505 - val_loss: 0.1291 - val_accuracy: 0.9504\n",
            "Epoch 10/11\n",
            "625/625 [==============================] - 263s 420ms/step - loss: 0.1282 - accuracy: 0.9513 - val_loss: 0.1208 - val_accuracy: 0.9536\n",
            "Epoch 11/11\n",
            "625/625 [==============================] - 263s 421ms/step - loss: 0.1252 - accuracy: 0.9524 - val_loss: 0.1214 - val_accuracy: 0.9528\n"
          ]
        }
      ]
    },
    {
      "cell_type": "markdown",
      "source": [
        "##Train VS Validation"
      ],
      "metadata": {
        "id": "ZOFEyXalKNKP"
      }
    },
    {
      "cell_type": "code",
      "execution_count": null,
      "metadata": {
        "colab": {
          "base_uri": "https://localhost:8080/",
          "height": 295
        },
        "id": "pYBFZ7zZLEb6",
        "outputId": "ebd3a11c-87d8-45e1-f4cd-f5491a941a98"
      },
      "outputs": [
        {
          "output_type": "display_data",
          "data": {
            "text/plain": [
              "<Figure size 432x288 with 1 Axes>"
            ],
            "image/png": "[encoded data removed]"
          },
          "metadata": {
            "needs_background": "light"
          }
        }
      ],
      "source": [
        "plt.plot(history.history['loss'], label=' training data')\n",
        "plt.plot(history.history['val_loss'], label='validation data')\n",
        "plt.title('Loss for Text Classification')\n",
        "plt.ylabel('Loss value')\n",
        "plt.xlabel('No. epoch')\n",
        "plt.legend(loc=\"upper left\")\n",
        "plt.show()"
      ]
    },
    {
      "cell_type": "code",
      "execution_count": null,
      "metadata": {
        "colab": {
          "base_uri": "https://localhost:8080/",
          "height": 295
        },
        "id": "uXhFJVmWLHPn",
        "outputId": "eee3c617-198e-4cb6-ba6b-c5a5bf5a0765"
      },
      "outputs": [
        {
          "output_type": "display_data",
          "data": {
            "text/plain": [
              "<Figure size 432x288 with 1 Axes>"
            ],
            "image/png": "[encoded data removed]"
          },
          "metadata": {
            "needs_background": "light"
          }
        }
      ],
      "source": [
        "plt.plot(history.history['accuracy'], label=' training data')\n",
        "plt.plot(history.history['val_accuracy'], label='validation data')\n",
        "plt.title('Accuracy for Text Classification')\n",
        "plt.ylabel('Accuracy value')\n",
        "plt.xlabel('No. epoch')\n",
        "plt.legend(loc=\"upper left\")\n",
        "plt.show()"
      ]
    },
    {
      "cell_type": "markdown",
      "metadata": {
        "id": "ygAVQHDoLIAm"
      },
      "source": [
        "##Depictions\n"
      ]
    },
    {
      "cell_type": "code",
      "source": [
        "model.summary()"
      ],
      "metadata": {
        "colab": {
          "base_uri": "https://localhost:8080/"
        },
        "id": "E6fm5NjE8S6S",
        "outputId": "913d48a0-aa9f-4611-f2c2-04960e4075d5"
      },
      "execution_count": null,
      "outputs": [
        {
          "output_type": "stream",
          "name": "stdout",
          "text": [
            "Model: \"model\"\n",
            "__________________________________________________________________________________________________\n",
            " Layer (type)                   Output Shape         Param #     Connected to                     \n",
            "==================================================================================================\n",
            " text (InputLayer)              [(None,)]            0           []                               \n",
            "                                                                                                  \n",
            " keras_layer (KerasLayer)       {'input_word_ids':   0           ['text[0][0]']                   \n",
            "                                (None, 128),                                                      \n",
            "                                 'input_mask': (Non                                               \n",
            "                                e, 128),                                                          \n",
            "                                 'input_type_ids':                                                \n",
            "                                (None, 128)}                                                      \n",
            "                                                                                                  \n",
            " keras_layer_1 (KerasLayer)     {'pooled_output': (  109482241   ['keras_layer[0][0]',            \n",
            "                                None, 768),                       'keras_layer[0][1]',            \n",
            "                                 'default': (None,                'keras_layer[0][2]']            \n",
            "                                768),                                                             \n",
            "                                 'sequence_output':                                               \n",
            "                                 (None, 128, 768),                                                \n",
            "                                 'encoder_outputs':                                               \n",
            "                                 [(None, 128, 768),                                               \n",
            "                                 (None, 128, 768),                                                \n",
            "                                 (None, 128, 768),                                                \n",
            "                                 (None, 128, 768),                                                \n",
            "                                 (None, 128, 768),                                                \n",
            "                                 (None, 128, 768),                                                \n",
            "                                 (None, 128, 768),                                                \n",
            "                                 (None, 128, 768),                                                \n",
            "                                 (None, 128, 768),                                                \n",
            "                                 (None, 128, 768),                                                \n",
            "                                 (None, 128, 768),                                                \n",
            "                                 (None, 128, 768)]}                                               \n",
            "                                                                                                  \n",
            " dropout (Dropout)              (None, 768)          0           ['keras_layer_1[0][13]']         \n",
            "                                                                                                  \n",
            " hidden1 (Dense)                (None, 128)          98432       ['dropout[0][0]']                \n",
            "                                                                                                  \n",
            " hidden2 (Dense)                (None, 32)           4128        ['hidden1[0][0]']                \n",
            "                                                                                                  \n",
            " output (Dense)                 (None, 1)            33          ['hidden2[0][0]']                \n",
            "                                                                                                  \n",
            "==================================================================================================\n",
            "Total params: 109,584,834\n",
            "Trainable params: 102,593\n",
            "Non-trainable params: 109,482,241\n",
            "__________________________________________________________________________________________________\n"
          ]
        }
      ]
    },
    {
      "cell_type": "code",
      "source": [
        "tensorflow.keras.utils.plot_model(model, \"multi_input_and_output_model.png\")"
      ],
      "metadata": {
        "colab": {
          "base_uri": "https://localhost:8080/",
          "height": 661
        },
        "id": "zHv7ugOY8Qgq",
        "outputId": "e7937272-31e5-4ce9-e15d-21d36d59673e"
      },
      "execution_count": null,
      "outputs": [
        {
          "output_type": "execute_result",
          "data": {
            "text/plain": [
              "<IPython.core.display.Image object>"
            ],
            "image/png": "[encoded data removed]"
          },
          "metadata": {},
          "execution_count": 12
        }
      ]
    },
    {
      "cell_type": "code",
      "execution_count": null,
      "metadata": {
        "colab": {
          "base_uri": "https://localhost:8080/",
          "height": 281
        },
        "id": "VOZJiiGloxzi",
        "outputId": "3903d1ae-18a0-4005-bbe1-a2a72598ab7f"
      },
      "outputs": [
        {
          "output_type": "execute_result",
          "data": {
            "text/plain": [
              "<IPython.core.display.Image object>"
            ],
            "image/png": "[encoded data removed]"
          },
          "metadata": {},
          "execution_count": 31
        }
      ],
      "source": [
        "tensorflow.keras.utils.plot_model(model, \"multi_input_and_output_model.png\", show_shapes=True)"
      ]
    },
    {
      "cell_type": "markdown",
      "metadata": {
        "id": "5dlzUkAGJRhw"
      },
      "source": [
        "##Evaluation"
      ]
    },
    {
      "cell_type": "code",
      "execution_count": null,
      "metadata": {
        "colab": {
          "base_uri": "https://localhost:8080/"
        },
        "id": "7hLcp2X8PI15",
        "outputId": "beb9ca23-4ea3-48e5-c039-b678b02c8805"
      },
      "outputs": [
        {
          "output_type": "stream",
          "name": "stdout",
          "text": [
            "625/625 [==============================] - 240s 384ms/step - loss: 0.1212 - accuracy: 0.9566\n"
          ]
        }
      ],
      "source": [
        "results0 = model.evaluate(X_train,y_train)"
      ]
    },
    {
      "cell_type": "code",
      "execution_count": null,
      "metadata": {
        "colab": {
          "base_uri": "https://localhost:8080/"
        },
        "id": "mmOhDi49X0L9",
        "outputId": "af9d53ac-492c-4ea2-8613-c449d10ef51d"
      },
      "outputs": [
        {
          "output_type": "stream",
          "name": "stdout",
          "text": [
            "79/79 [==============================] - 29s 369ms/step - loss: 0.1221 - accuracy: 0.9568\n"
          ]
        }
      ],
      "source": [
        "results = model.evaluate(X_test,y_test)"
      ]
    },
    {
      "cell_type": "code",
      "execution_count": null,
      "metadata": {
        "colab": {
          "base_uri": "https://localhost:8080/"
        },
        "id": "i-2XUwXxA1tf",
        "outputId": "1c712d68-ac26-44e4-a5a6-749fbfc43d43"
      },
      "outputs": [
        {
          "output_type": "stream",
          "name": "stdout",
          "text": [
            "79/79 [==============================] - 29s 369ms/step - loss: 0.1214 - accuracy: 0.9528\n"
          ]
        }
      ],
      "source": [
        "results2 = model.evaluate(X_valid,y_valid)"
      ]
    },
    {
      "cell_type": "code",
      "execution_count": null,
      "metadata": {
        "colab": {
          "base_uri": "https://localhost:8080/"
        },
        "id": "dDl_sUzoYr76",
        "outputId": "9c956ac6-ffca-4c48-b32c-102b3aa2b092"
      },
      "outputs": [
        {
          "output_type": "stream",
          "name": "stdout",
          "text": [
            "[0.06 0.68 0.01 ... 0.01 0.   0.55]\n",
            "[0 1 0 ... 0 0 1]\n"
          ]
        }
      ],
      "source": [
        "p_pred = model.predict(X_test)\n",
        "p_pred = p_pred.flatten()\n",
        "print(p_pred.round(2))\n",
        "# extract the predicted class labels\n",
        "y_pred = np.where(p_pred > 0.5, 1, 0)\n",
        "print(y_pred)"
      ]
    },
    {
      "cell_type": "code",
      "execution_count": null,
      "metadata": {
        "colab": {
          "base_uri": "https://localhost:8080/"
        },
        "id": "7Qq9-GVcBI9t",
        "outputId": "b1ca4fa2-3f12-4a01-d702-fc1cb3dfd5be"
      },
      "outputs": [
        {
          "output_type": "stream",
          "name": "stdout",
          "text": [
            "[0.   0.35 0.99 ... 0.   0.11 0.96]\n",
            "[0 0 1 ... 0 0 1]\n"
          ]
        }
      ],
      "source": [
        "p_pred2 = model.predict(X_valid)\n",
        "p_pred2 = p_pred2.flatten()\n",
        "print(p_pred2.round(2))\n",
        "# extract the predicted class labels\n",
        "y_pred2 = np.where(p_pred2 > 0.5, 1, 0)\n",
        "print(y_pred2)"
      ]
    },
    {
      "cell_type": "code",
      "execution_count": null,
      "metadata": {
        "colab": {
          "base_uri": "https://localhost:8080/",
          "height": 279
        },
        "id": "lWRaO2d7aIou",
        "outputId": "31dcf08d-76af-408c-c930-41e7d008ddcd"
      },
      "outputs": [
        {
          "output_type": "display_data",
          "data": {
            "text/plain": [
              "<Figure size 432x288 with 2 Axes>"
            ],
            "image/png": "[encoded data removed]"
          },
          "metadata": {
            "needs_background": "light"
          }
        }
      ],
      "source": [
        "from sklearn.metrics import ConfusionMatrixDisplay\n",
        "from sklearn.metrics import confusion_matrix\n",
        "import matplotlib.pyplot as plt\n",
        "import numpy as np\n",
        "\n",
        "cm = confusion_matrix(y_test, y_pred)\n",
        "\n",
        "disp = ConfusionMatrixDisplay(confusion_matrix=cm)\n",
        "\n",
        "disp.plot(cmap=plt.cm.Blues)\n",
        "plt.show()"
      ]
    },
    {
      "cell_type": "code",
      "execution_count": null,
      "metadata": {
        "colab": {
          "base_uri": "https://localhost:8080/",
          "height": 279
        },
        "id": "5w97BAdaBPPB",
        "outputId": "368c9cdb-1dfc-42bf-bb2b-4c7dd6d8e1df"
      },
      "outputs": [
        {
          "output_type": "display_data",
          "data": {
            "text/plain": [
              "<Figure size 432x288 with 2 Axes>"
            ],
            "image/png": "[encoded data removed]"
          },
          "metadata": {
            "needs_background": "light"
          }
        }
      ],
      "source": [
        "from sklearn.metrics import ConfusionMatrixDisplay\n",
        "from sklearn.metrics import confusion_matrix\n",
        "import matplotlib.pyplot as plt\n",
        "import numpy as np\n",
        "\n",
        "cm2 = confusion_matrix(y_valid, y_pred2)\n",
        "\n",
        "disp2 = ConfusionMatrixDisplay(confusion_matrix=cm2)\n",
        "\n",
        "disp2.plot(cmap=plt.cm.Blues)\n",
        "plt.show()"
      ]
    },
    {
      "cell_type": "code",
      "execution_count": null,
      "metadata": {
        "colab": {
          "base_uri": "https://localhost:8080/"
        },
        "id": "Vz0hdCqPZczq",
        "outputId": "429919c1-eae6-48bd-c5c6-c3c32cd48dfa"
      },
      "outputs": [
        {
          "output_type": "stream",
          "name": "stdout",
          "text": [
            "              precision    recall  f1-score   support\n",
            "\n",
            "           0       0.95      0.97      0.96      1263\n",
            "           1       0.97      0.94      0.96      1237\n",
            "\n",
            "    accuracy                           0.96      2500\n",
            "   macro avg       0.96      0.96      0.96      2500\n",
            "weighted avg       0.96      0.96      0.96      2500\n",
            "\n"
          ]
        }
      ],
      "source": [
        "from sklearn.metrics import classification_report\n",
        "report = classification_report(y_test, y_pred)\n",
        "print(report)"
      ]
    },
    {
      "cell_type": "code",
      "execution_count": null,
      "metadata": {
        "colab": {
          "base_uri": "https://localhost:8080/"
        },
        "id": "Orecvmi_BU9e",
        "outputId": "aa4db7f2-a580-40e1-ea8a-3d3e513167a7"
      },
      "outputs": [
        {
          "output_type": "stream",
          "name": "stdout",
          "text": [
            "              precision    recall  f1-score   support\n",
            "\n",
            "           0       0.95      0.96      0.95      1238\n",
            "           1       0.96      0.95      0.95      1262\n",
            "\n",
            "    accuracy                           0.95      2500\n",
            "   macro avg       0.95      0.95      0.95      2500\n",
            "weighted avg       0.95      0.95      0.95      2500\n",
            "\n"
          ]
        }
      ],
      "source": [
        "from sklearn.metrics import classification_report\n",
        "report2 = classification_report(y_valid, y_pred2)\n",
        "print(report2)"
      ]
    }
  ],
  "metadata": {
    "colab": {
      "collapsed_sections": [
        "fwtsQsfhyz-2"
      ],
      "machine_shape": "hm",
      "name": "BERT_callbackRS100.ipynb",
      "provenance": []
    },
    "kernelspec": {
      "display_name": "Python 3",
      "name": "python3"
    },
    "accelerator": "GPU",
    "gpuClass": "standard"
  },
  "nbformat": 4,
  "nbformat_minor": 0
}
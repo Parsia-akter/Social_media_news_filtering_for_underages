{
  "cells": [
    {
      "cell_type": "markdown",
      "metadata": {
        "id": "UgpLG9syo580"
      },
      "source": [
        "#LSTM\n"
      ]
    },
    {
      "cell_type": "markdown",
      "source": [
        " بسم الله الرحمن الرحيم "
      ],
      "metadata": {
        "id": "v9KXM1jtf4Ne"
      }
    },
    {
      "cell_type": "markdown",
      "source": [
        "##Importing Libraries"
      ],
      "metadata": {
        "id": "7HqNOkQC2NWp"
      }
    },
    {
      "cell_type": "code",
      "source": [
        "import numpy as np\n",
        "import matplotlib.pyplot as plt\n",
        "import pandas as pd"
      ],
      "metadata": {
        "id": "cai6yu4z2N1V"
      },
      "execution_count": null,
      "outputs": []
    },
    {
      "cell_type": "markdown",
      "metadata": {
        "id": "C_TmQLDDVj7-"
      },
      "source": [
        "##Mounting Drive\n"
      ]
    },
    {
      "cell_type": "code",
      "execution_count": null,
      "metadata": {
        "id": "78FOGAhfO4y9"
      },
      "outputs": [],
      "source": [
        "from google.colab import drive"
      ]
    },
    {
      "cell_type": "code",
      "execution_count": null,
      "metadata": {
        "colab": {
          "base_uri": "https://localhost:8080/"
        },
        "id": "Z4TdH7Ugmy5E",
        "outputId": "288432ba-7892-44a9-bbdc-e0694d02d728"
      },
      "outputs": [
        {
          "output_type": "stream",
          "name": "stdout",
          "text": [
            "Mounted at /content/drive\n"
          ]
        }
      ],
      "source": [
        "drive.mount('/content/drive')"
      ]
    },
    {
      "cell_type": "code",
      "execution_count": null,
      "metadata": {
        "id": "_boF87ggVj8J"
      },
      "outputs": [],
      "source": [
        "dataset = pd.read_csv('/content/drive/MyDrive/mainDataset/newsDataset.csv')"
      ]
    },
    {
      "cell_type": "code",
      "execution_count": null,
      "metadata": {
        "colab": {
          "base_uri": "https://localhost:8080/"
        },
        "id": "zPHR10ymBLEz",
        "outputId": "8c3657e2-4d77-4313-d2c9-a968ea1dd0a6"
      },
      "outputs": [
        {
          "output_type": "stream",
          "name": "stdout",
          "text": [
            "<class 'pandas.core.frame.DataFrame'>\n",
            "RangeIndex: 25000 entries, 0 to 24999\n",
            "Data columns (total 6 columns):\n",
            " #   Column       Non-Null Count  Dtype \n",
            "---  ------       --------------  ----- \n",
            " 0   Unnamed: 0   25000 non-null  int64 \n",
            " 1   name         25000 non-null  object\n",
            " 2   url          25000 non-null  object\n",
            " 3   title        25000 non-null  object\n",
            " 4   article      25000 non-null  object\n",
            " 5   kidFriendly  25000 non-null  int64 \n",
            "dtypes: int64(2), object(4)\n",
            "memory usage: 1.1+ MB\n"
          ]
        }
      ],
      "source": [
        "dataset.info()"
      ]
    },
    {
      "cell_type": "code",
      "execution_count": null,
      "metadata": {
        "id": "fvR-9ROYpbsZ",
        "colab": {
          "base_uri": "https://localhost:8080/",
          "height": 991
        },
        "outputId": "e8b47dc5-254e-430f-9a6e-7373d23cebe9"
      },
      "outputs": [
        {
          "output_type": "execute_result",
          "data": {
            "text/plain": [
              "       Unnamed: 0                       name  \\\n",
              "0               0  Science News for Students   \n",
              "1               1                   ROBINAGE   \n",
              "2               2                  DOGO News   \n",
              "3               3                   Atlantic   \n",
              "4               4                   ROBINAGE   \n",
              "...           ...                        ...   \n",
              "24995       24995              Time for Kids   \n",
              "24996       24996                        CNN   \n",
              "24997       24997                   Atlantic   \n",
              "24998       24998                  DOGO News   \n",
              "24999       24999                  Breitbart   \n",
              "\n",
              "                                                     url  \\\n",
              "0      https://www.sciencenewsforstudents.org/article...   \n",
              "1      https://www.robinage.com/books--nooks/dont-flu...   \n",
              "2      https://www.dogonews.com/2011/9/22/this-friday...   \n",
              "3                                              Not Found   \n",
              "4      https://www.robinage.com/recipes/cheese-parant...   \n",
              "...                                                  ...   \n",
              "24995                            http://tfk.news/3vpxnQR   \n",
              "24996                                          Not Found   \n",
              "24997                                          Not Found   \n",
              "24998  https://www.dogonews.com/2010/5/8/a-heavenly-t...   \n",
              "24999                                          Not Found   \n",
              "\n",
              "                                                   title  \\\n",
              "0                              Cool Jobs: Sports science   \n",
              "1                                            Don't Flush   \n",
              "2      This Friday - Watch Out For The Satellite Debr...   \n",
              "3       Rex Tillerson Says Climate Change Is Real, but …   \n",
              "4                                        Cheese Parantha   \n",
              "...                                                  ...   \n",
              "24995  It's #WafflesAndMochi day! TFK Kid Reporter Be...   \n",
              "24996  Obama comes face to face with burdens of 9/11 ...   \n",
              "24997                                 The New Reality TV   \n",
              "24998           This Mother's Day - Reach For The Stars!   \n",
              "24999  Exclusive — Darrell Issa: ‘Tainted Justice Dep...   \n",
              "\n",
              "                                                 article  kidFriendly  \n",
              "0      A teenager wearing a white leotard emblazoned ...            1  \n",
              "1      If you think poo and wee is disgusting and not...            1  \n",
              "2      Over the years, we have sent so many irretriev...            1  \n",
              "3      As chairman and CEO of ExxonMobil, Rex Tillers...            0  \n",
              "4      What You Need: For the Parantha\\nWheat flour -...            1  \n",
              "...                                                  ...          ...  \n",
              "24995  Take two puppets, add former First Lady Michel...            1  \n",
              "24996   (CNN) President Barack Obama came face to fac...            0  \n",
              "24997  “Reality seems tired. It seems derivative,” a ...            0  \n",
              "24998  Photo Credit: imothersday.net  If you are stil...            1  \n",
              "24999  Rep. Darrell Issa ( ) the former chairman of t...            0  \n",
              "\n",
              "[25000 rows x 6 columns]"
            ],
            "text/html": [
              "\n",
              "  <div id=\"df-98fd0080-f032-4c41-b429-32e3b3bf81d9\">\n",
              "    <div class=\"colab-df-container\">\n",
              "      <div>\n",
              "<style scoped>\n",
              "    .dataframe tbody tr th:only-of-type {\n",
              "        vertical-align: middle;\n",
              "    }\n",
              "\n",
              "    .dataframe tbody tr th {\n",
              "        vertical-align: top;\n",
              "    }\n",
              "\n",
              "    .dataframe thead th {\n",
              "        text-align: right;\n",
              "    }\n",
              "</style>\n",
              "<table border=\"1\" class=\"dataframe\">\n",
              "  <thead>\n",
              "    <tr style=\"text-align: right;\">\n",
              "      <th></th>\n",
              "      <th>Unnamed: 0</th>\n",
              "      <th>name</th>\n",
              "      <th>url</th>\n",
              "      <th>title</th>\n",
              "      <th>article</th>\n",
              "      <th>kidFriendly</th>\n",
              "    </tr>\n",
              "  </thead>\n",
              "  <tbody>\n",
              "    <tr>\n",
              "      <th>0</th>\n",
              "      <td>0</td>\n",
              "      <td>Science News for Students</td>\n",
              "      <td>https://www.sciencenewsforstudents.org/article...</td>\n",
              "      <td>Cool Jobs: Sports science</td>\n",
              "      <td>A teenager wearing a white leotard emblazoned ...</td>\n",
              "      <td>1</td>\n",
              "    </tr>\n",
              "    <tr>\n",
              "      <th>1</th>\n",
              "      <td>1</td>\n",
              "      <td>ROBINAGE</td>\n",
              "      <td>https://www.robinage.com/books--nooks/dont-flu...</td>\n",
              "      <td>Don't Flush</td>\n",
              "      <td>If you think poo and wee is disgusting and not...</td>\n",
              "      <td>1</td>\n",
              "    </tr>\n",
              "    <tr>\n",
              "      <th>2</th>\n",
              "      <td>2</td>\n",
              "      <td>DOGO News</td>\n",
              "      <td>https://www.dogonews.com/2011/9/22/this-friday...</td>\n",
              "      <td>This Friday - Watch Out For The Satellite Debr...</td>\n",
              "      <td>Over the years, we have sent so many irretriev...</td>\n",
              "      <td>1</td>\n",
              "    </tr>\n",
              "    <tr>\n",
              "      <th>3</th>\n",
              "      <td>3</td>\n",
              "      <td>Atlantic</td>\n",
              "      <td>Not Found</td>\n",
              "      <td>Rex Tillerson Says Climate Change Is Real, but …</td>\n",
              "      <td>As chairman and CEO of ExxonMobil, Rex Tillers...</td>\n",
              "      <td>0</td>\n",
              "    </tr>\n",
              "    <tr>\n",
              "      <th>4</th>\n",
              "      <td>4</td>\n",
              "      <td>ROBINAGE</td>\n",
              "      <td>https://www.robinage.com/recipes/cheese-parant...</td>\n",
              "      <td>Cheese Parantha</td>\n",
              "      <td>What You Need: For the Parantha\\nWheat flour -...</td>\n",
              "      <td>1</td>\n",
              "    </tr>\n",
              "    <tr>\n",
              "      <th>...</th>\n",
              "      <td>...</td>\n",
              "      <td>...</td>\n",
              "      <td>...</td>\n",
              "      <td>...</td>\n",
              "      <td>...</td>\n",
              "      <td>...</td>\n",
              "    </tr>\n",
              "    <tr>\n",
              "      <th>24995</th>\n",
              "      <td>24995</td>\n",
              "      <td>Time for Kids</td>\n",
              "      <td>http://tfk.news/3vpxnQR</td>\n",
              "      <td>It's #WafflesAndMochi day! TFK Kid Reporter Be...</td>\n",
              "      <td>Take two puppets, add former First Lady Michel...</td>\n",
              "      <td>1</td>\n",
              "    </tr>\n",
              "    <tr>\n",
              "      <th>24996</th>\n",
              "      <td>24996</td>\n",
              "      <td>CNN</td>\n",
              "      <td>Not Found</td>\n",
              "      <td>Obama comes face to face with burdens of 9/11 ...</td>\n",
              "      <td>(CNN) President Barack Obama came face to fac...</td>\n",
              "      <td>0</td>\n",
              "    </tr>\n",
              "    <tr>\n",
              "      <th>24997</th>\n",
              "      <td>24997</td>\n",
              "      <td>Atlantic</td>\n",
              "      <td>Not Found</td>\n",
              "      <td>The New Reality TV</td>\n",
              "      <td>“Reality seems tired. It seems derivative,” a ...</td>\n",
              "      <td>0</td>\n",
              "    </tr>\n",
              "    <tr>\n",
              "      <th>24998</th>\n",
              "      <td>24998</td>\n",
              "      <td>DOGO News</td>\n",
              "      <td>https://www.dogonews.com/2010/5/8/a-heavenly-t...</td>\n",
              "      <td>This Mother's Day - Reach For The Stars!</td>\n",
              "      <td>Photo Credit: imothersday.net  If you are stil...</td>\n",
              "      <td>1</td>\n",
              "    </tr>\n",
              "    <tr>\n",
              "      <th>24999</th>\n",
              "      <td>24999</td>\n",
              "      <td>Breitbart</td>\n",
              "      <td>Not Found</td>\n",
              "      <td>Exclusive — Darrell Issa: ‘Tainted Justice Dep...</td>\n",
              "      <td>Rep. Darrell Issa ( ) the former chairman of t...</td>\n",
              "      <td>0</td>\n",
              "    </tr>\n",
              "  </tbody>\n",
              "</table>\n",
              "<p>25000 rows × 6 columns</p>\n",
              "</div>\n",
              "      <button class=\"colab-df-convert\" onclick=\"convertToInteractive('df-98fd0080-f032-4c41-b429-32e3b3bf81d9')\"\n",
              "              title=\"Convert this dataframe to an interactive table.\"\n",
              "              style=\"display:none;\">\n",
              "        \n",
              "  <svg xmlns=\"http://www.w3.org/2000/svg\" height=\"24px\"viewBox=\"0 0 24 24\"\n",
              "       width=\"24px\">\n",
              "    <path d=\"M0 0h24v24H0V0z\" fill=\"none\"/>\n",
              "    <path d=\"M18.56 5.44l.94 2.06.94-2.06 2.06-.94-2.06-.94-.94-2.06-.94 2.06-2.06.94zm-11 1L8.5 8.5l.94-2.06 2.06-.94-2.06-.94L8.5 2.5l-.94 2.06-2.06.94zm10 10l.94 2.06.94-2.06 2.06-.94-2.06-.94-.94-2.06-.94 2.06-2.06.94z\"/><path d=\"M17.41 7.96l-1.37-1.37c-.4-.4-.92-.59-1.43-.59-.52 0-1.04.2-1.43.59L10.3 9.45l-7.72 7.72c-.78.78-.78 2.05 0 2.83L4 21.41c.39.39.9.59 1.41.59.51 0 1.02-.2 1.41-.59l7.78-7.78 2.81-2.81c.8-.78.8-2.07 0-2.86zM5.41 20L4 18.59l7.72-7.72 1.47 1.35L5.41 20z\"/>\n",
              "  </svg>\n",
              "      </button>\n",
              "      \n",
              "  <style>\n",
              "    .colab-df-container {\n",
              "      display:flex;\n",
              "      flex-wrap:wrap;\n",
              "      gap: 12px;\n",
              "    }\n",
              "\n",
              "    .colab-df-convert {\n",
              "      background-color: #E8F0FE;\n",
              "      border: none;\n",
              "      border-radius: 50%;\n",
              "      cursor: pointer;\n",
              "      display: none;\n",
              "      fill: #1967D2;\n",
              "      height: 32px;\n",
              "      padding: 0 0 0 0;\n",
              "      width: 32px;\n",
              "    }\n",
              "\n",
              "    .colab-df-convert:hover {\n",
              "      background-color: #E2EBFA;\n",
              "      box-shadow: 0px 1px 2px rgba(60, 64, 67, 0.3), 0px 1px 3px 1px rgba(60, 64, 67, 0.15);\n",
              "      fill: #174EA6;\n",
              "    }\n",
              "\n",
              "    [theme=dark] .colab-df-convert {\n",
              "      background-color: #3B4455;\n",
              "      fill: #D2E3FC;\n",
              "    }\n",
              "\n",
              "    [theme=dark] .colab-df-convert:hover {\n",
              "      background-color: #434B5C;\n",
              "      box-shadow: 0px 1px 3px 1px rgba(0, 0, 0, 0.15);\n",
              "      filter: drop-shadow(0px 1px 2px rgba(0, 0, 0, 0.3));\n",
              "      fill: #FFFFFF;\n",
              "    }\n",
              "  </style>\n",
              "\n",
              "      <script>\n",
              "        const buttonEl =\n",
              "          document.querySelector('#df-98fd0080-f032-4c41-b429-32e3b3bf81d9 button.colab-df-convert');\n",
              "        buttonEl.style.display =\n",
              "          google.colab.kernel.accessAllowed ? 'block' : 'none';\n",
              "\n",
              "        async function convertToInteractive(key) {\n",
              "          const element = document.querySelector('#df-98fd0080-f032-4c41-b429-32e3b3bf81d9');\n",
              "          const dataTable =\n",
              "            await google.colab.kernel.invokeFunction('convertToInteractive',\n",
              "                                                     [key], {});\n",
              "          if (!dataTable) return;\n",
              "\n",
              "          const docLinkHtml = 'Like what you see? Visit the ' +\n",
              "            '<a target=\"_blank\" href=https://colab.research.google.com/notebooks/data_table.ipynb>data table notebook</a>'\n",
              "            + ' to learn more about interactive tables.';\n",
              "          element.innerHTML = '';\n",
              "          dataTable['output_type'] = 'display_data';\n",
              "          await google.colab.output.renderOutput(dataTable, element);\n",
              "          const docLink = document.createElement('div');\n",
              "          docLink.innerHTML = docLinkHtml;\n",
              "          element.appendChild(docLink);\n",
              "        }\n",
              "      </script>\n",
              "    </div>\n",
              "  </div>\n",
              "  "
            ]
          },
          "metadata": {},
          "execution_count": 9
        }
      ],
      "source": [
        "dataset"
      ]
    },
    {
      "cell_type": "markdown",
      "metadata": {
        "id": "fwtsQsfhyz-2"
      },
      "source": [
        "##Data visualization"
      ]
    },
    {
      "cell_type": "code",
      "execution_count": null,
      "metadata": {
        "colab": {
          "base_uri": "https://localhost:8080/",
          "height": 72
        },
        "id": "YJ1fs_PQy4VM",
        "outputId": "b0289a17-f868-464b-bf4e-cfd8bc1fb227"
      },
      "outputs": [
        {
          "output_type": "execute_result",
          "data": {
            "text/plain": [
              "<matplotlib.axes._subplots.AxesSubplot at 0x7f9a7f203d50>"
            ]
          },
          "metadata": {},
          "execution_count": 10
        },
        {
          "output_type": "display_data",
          "data": {
            "text/plain": [
              "<Figure size 432x288 with 1 Axes>"
            ],
            "image/png": "[encoded data removed]"
          },
          "metadata": {
            "needs_background": "light"
          }
        }
      ],
      "source": [
        "dataset.kidFriendly.value_counts().plot.bar(color=['lightgreen', 'pink'])"
      ]
    },
    {
      "cell_type": "code",
      "execution_count": null,
      "metadata": {
        "colab": {
          "base_uri": "https://localhost:8080/",
          "height": 72
        },
        "id": "mQzGoQUJ-Ngm",
        "outputId": "78d48dd3-d03e-472f-82dc-d97439162786"
      },
      "outputs": [
        {
          "output_type": "execute_result",
          "data": {
            "text/plain": [
              "<matplotlib.axes._subplots.AxesSubplot at 0x7f9a7f17c390>"
            ]
          },
          "metadata": {},
          "execution_count": 11
        },
        {
          "output_type": "display_data",
          "data": {
            "text/plain": [
              "<Figure size 432x288 with 1 Axes>"
            ],
            "image/png": "[encoded data removed]"
          },
          "metadata": {
            "needs_background": "light"
          }
        }
      ],
      "source": [
        "dataset.name.value_counts().plot.bar(color=['C0', 'C1', 'C2','C3','C4','C5','C6','C7','C8','C9','C10'])"
      ]
    },
    {
      "cell_type": "code",
      "execution_count": null,
      "metadata": {
        "colab": {
          "base_uri": "https://localhost:8080/",
          "height": 72
        },
        "id": "Qbmc453VDjdI",
        "outputId": "d44e8a09-fb9b-442c-e918-e385d499263d"
      },
      "outputs": [
        {
          "output_type": "execute_result",
          "data": {
            "text/plain": [
              "<matplotlib.axes._subplots.AxesSubplot at 0x7f9a80584650>"
            ]
          },
          "metadata": {},
          "execution_count": 12
        },
        {
          "output_type": "display_data",
          "data": {
            "text/plain": [
              "<Figure size 432x288 with 1 Axes>"
            ],
            "image/png": "[encoded data removed]"
          },
          "metadata": {
            "needs_background": "light"
          }
        }
      ],
      "source": [
        "temp = dataset.query('kidFriendly == 0')\n",
        "temp.name.value_counts().plot.bar(color=['C0', 'C1', 'C2','C3','C4','C5','C6','C7','C8','C9','C10'],title='Newspaper Distribution for Adult News', xlabel='Newspaper Name')"
      ]
    },
    {
      "cell_type": "code",
      "execution_count": null,
      "metadata": {
        "colab": {
          "base_uri": "https://localhost:8080/",
          "height": 72
        },
        "id": "MuBgvINc3oAA",
        "outputId": "f77b6daa-f88b-49f8-d5fc-16773f68531b"
      },
      "outputs": [
        {
          "output_type": "execute_result",
          "data": {
            "text/plain": [
              "<matplotlib.axes._subplots.AxesSubplot at 0x7f9a7eb50350>"
            ]
          },
          "metadata": {},
          "execution_count": 13
        },
        {
          "output_type": "display_data",
          "data": {
            "text/plain": [
              "<Figure size 432x288 with 1 Axes>"
            ],
            "image/png": "[encoded data removed]"
          },
          "metadata": {
            "needs_background": "light"
          }
        }
      ],
      "source": [
        "temp2 = dataset.query('kidFriendly == 1')\n",
        "temp2.name.value_counts().plot.bar(color=['C0', 'C1', 'C2','C3','C4','C5','C6','C7','C8','C9','C10'],title='Newspaper Distribution for Kids News', xlabel='Newspaper Name')"
      ]
    },
    {
      "cell_type": "code",
      "execution_count": null,
      "metadata": {
        "id": "-aa1VpbXWANF"
      },
      "outputs": [],
      "source": [
        "ind = dataset.index[dataset['article'].apply(lambda x: len(str(x).split())) <50 ]"
      ]
    },
    {
      "cell_type": "code",
      "execution_count": null,
      "metadata": {
        "colab": {
          "base_uri": "https://localhost:8080/"
        },
        "id": "VP95L0QjWWfE",
        "outputId": "6a3f1c6b-fe96-4fa0-ed62-369d876b47bf"
      },
      "outputs": [
        {
          "output_type": "execute_result",
          "data": {
            "text/plain": [
              "Unnamed: 0                                                 12389\n",
              "name                                            Business Insider\n",
              "url                                                    Not Found\n",
              "title          Hillary Clinton wins Puerto Rico Democratic pr...\n",
              "article        ’’ ”SAN JUAN, Puerto Rico (AP)    Hillary Clin...\n",
              "kidFriendly                                                    0\n",
              "Name: 12389, dtype: object"
            ]
          },
          "metadata": {},
          "execution_count": 15
        }
      ],
      "source": [
        "dataset.loc[12389]"
      ]
    },
    {
      "cell_type": "code",
      "execution_count": null,
      "metadata": {
        "colab": {
          "base_uri": "https://localhost:8080/"
        },
        "id": "7ZHxm4enWMME",
        "outputId": "bb2ed95a-ec08-461e-cc59-9fb8ea9e2c77"
      },
      "outputs": [
        {
          "output_type": "execute_result",
          "data": {
            "text/plain": [
              "Int64Index([], dtype='int64')"
            ]
          },
          "metadata": {},
          "execution_count": 16
        }
      ],
      "source": [
        "ind"
      ]
    },
    {
      "cell_type": "code",
      "execution_count": null,
      "metadata": {
        "id": "7m-jrjhe0uMM"
      },
      "outputs": [],
      "source": [
        "article_len = dataset['article'].astype(str).apply(len)\n",
        "word_count = dataset['article'].apply(lambda x: len(str(x).split()))"
      ]
    },
    {
      "cell_type": "code",
      "source": [
        "article_len1 = temp['article'].astype(str).apply(len)\n",
        "word_count1 = temp['article'].apply(lambda x: len(str(x).split()))"
      ],
      "metadata": {
        "id": "5zGOqS1SIoG9"
      },
      "execution_count": null,
      "outputs": []
    },
    {
      "cell_type": "code",
      "source": [
        "article_len2 = temp2['article'].astype(str).apply(len)\n",
        "word_count2 = temp2['article'].apply(lambda x: len(str(x).split()))"
      ],
      "metadata": {
        "id": "xNn0kY4cIxpc"
      },
      "execution_count": null,
      "outputs": []
    },
    {
      "cell_type": "code",
      "source": [
        "print(min(article_len1))\n",
        "print(max(article_len1))\n",
        "print(min(word_count1))\n",
        "print(max(word_count1))\n",
        "\n",
        "print(min(article_len2))\n",
        "print(max(article_len2))\n",
        "print(min(word_count2))\n",
        "print(max(word_count2))"
      ],
      "metadata": {
        "colab": {
          "base_uri": "https://localhost:8080/"
        },
        "id": "CrTMmsYFI2Rb",
        "outputId": "616b0063-f4ad-4a18-ee18-9fcf423a1cfc"
      },
      "execution_count": null,
      "outputs": [
        {
          "output_type": "stream",
          "name": "stdout",
          "text": [
            "507\n",
            "74920\n",
            "100\n",
            "9639\n",
            "504\n",
            "29735\n",
            "100\n",
            "5249\n"
          ]
        }
      ]
    },
    {
      "cell_type": "code",
      "execution_count": null,
      "metadata": {
        "id": "nX1DhUggDtvF"
      },
      "outputs": [],
      "source": [
        "dataset = dataset.dropna(subset=['article'])"
      ]
    },
    {
      "cell_type": "code",
      "execution_count": null,
      "metadata": {
        "id": "kis4E9R5ESqg",
        "colab": {
          "base_uri": "https://localhost:8080/",
          "height": 1000
        },
        "outputId": "20cfc59d-b03c-4187-df6f-0a1ec8e3d0b8"
      },
      "outputs": [
        {
          "output_type": "execute_result",
          "data": {
            "text/plain": [
              "'An Arizona Republican senator, who was most adamantly opposed to   Donald J. Trump, is in for a tough reelection campaign in 2018, according to a Remington Research Group poll. The poll was conducted Nov. 15 and Nov. 16 with 1, 122 likely Republican primary voters in that state and carries a 2. 93 percent margin of error. [“Jeff Flake is currently in a very precarious position,” said Titus Bond, director of Remington Research Group. “The data show that Flake’s image amongst Republican primary voters is in bad shape and that carries over to the ballot where he only realizes 35 percent support on the high end. It remains early but he is certainly the most vulnerable incumbent to a primary challenge. ”  The data show that Donald Trump is popular amongst Arizona’s Republican primary electorate.   percent hold a favorable view of the   while only 10 percent view him unfavorably, Bond said. Flake is viewed unfavorably by roughly half of Republicans. Thirty percent view Flake favorably, while 49 percent view the senator in a negative light. The poll showed that State Treasurer Jeff DeWit leads Flake in the    with 42 percent support compared to Flake’s 33 percent and 25 percent undecided. DeWit was the chief operating officer of the Trump campaign. Dr. Kelli Ward, who lost to Sen. John McCain in the 2016 Arizona GOP primary, told Breitbart News she is challenging Flake in 2018. DeWit has not made an announcement. Both Arizona senators skipped the 2016 Republican National Convention —  Flake told reporters he had to mow his lawn. Ward is tied with Flake in the    with both garnering the support of 35 percent of Republicans and 30 percent undecided. In the   contest, DeWit leads the field with 38 percent, followed by Flake with 30 percent, Ward with 15 percent, and 17 percent undecided. In 2016, Flake made an effort to embrace President Barack Obama, while exhibiting hostility to Trump. Flake defended the president’s normalizing relations with Cuba and joined Obama for ceremonies there. The senator called for the   Senate to move forward with the president’s nomination of Merrick Garland for the Supreme Court. Flake joked that Trump would throw him into prison at Gitmo and even announced he was voting for Evan McMullin, the former senior policy director for Rep. Cathy McMorris Rodgers (R. .) for president, instead of Trump. Bond told Breitbart News Flake could pay a price for his opposition of Trump. “Key takeaway is that it appears Jeff Flake’s criticisms of Donald Trump has left him vulnerable to a serious primary challenge in 2018,” Bond said. “The data show that Trump has unified the Republican base in Arizona. Jeff Flake has polarized conservatives in his state, and you cannot win a Republican primary without them,” he said. “Flake has some serious work to do in the next year. ” The survey was paid for and commissioned independent of any campaign or committee.'"
            ],
            "application/vnd.google.colaboratory.intrinsic+json": {
              "type": "string"
            }
          },
          "metadata": {},
          "execution_count": 19
        }
      ],
      "source": [
        "dataset.loc[758].article"
      ]
    },
    {
      "cell_type": "code",
      "execution_count": null,
      "metadata": {
        "colab": {
          "base_uri": "https://localhost:8080/",
          "height": 131
        },
        "id": "Umz9oPQoC9e9",
        "outputId": "4205e4d4-ee51-4375-f519-3a27d4e44264"
      },
      "outputs": [
        {
          "output_type": "execute_result",
          "data": {
            "text/plain": [
              "Empty DataFrame\n",
              "Columns: [Unnamed: 0, name, url, title, article, kidFriendly]\n",
              "Index: []"
            ],
            "text/html": [
              "\n",
              "  <div id=\"df-222f2af1-dee2-4310-8720-7874aec339f0\">\n",
              "    <div class=\"colab-df-container\">\n",
              "      <div>\n",
              "<style scoped>\n",
              "    .dataframe tbody tr th:only-of-type {\n",
              "        vertical-align: middle;\n",
              "    }\n",
              "\n",
              "    .dataframe tbody tr th {\n",
              "        vertical-align: top;\n",
              "    }\n",
              "\n",
              "    .dataframe thead th {\n",
              "        text-align: right;\n",
              "    }\n",
              "</style>\n",
              "<table border=\"1\" class=\"dataframe\">\n",
              "  <thead>\n",
              "    <tr style=\"text-align: right;\">\n",
              "      <th></th>\n",
              "      <th>Unnamed: 0</th>\n",
              "      <th>name</th>\n",
              "      <th>url</th>\n",
              "      <th>title</th>\n",
              "      <th>article</th>\n",
              "      <th>kidFriendly</th>\n",
              "    </tr>\n",
              "  </thead>\n",
              "  <tbody>\n",
              "  </tbody>\n",
              "</table>\n",
              "</div>\n",
              "      <button class=\"colab-df-convert\" onclick=\"convertToInteractive('df-222f2af1-dee2-4310-8720-7874aec339f0')\"\n",
              "              title=\"Convert this dataframe to an interactive table.\"\n",
              "              style=\"display:none;\">\n",
              "        \n",
              "  <svg xmlns=\"http://www.w3.org/2000/svg\" height=\"24px\"viewBox=\"0 0 24 24\"\n",
              "       width=\"24px\">\n",
              "    <path d=\"M0 0h24v24H0V0z\" fill=\"none\"/>\n",
              "    <path d=\"M18.56 5.44l.94 2.06.94-2.06 2.06-.94-2.06-.94-.94-2.06-.94 2.06-2.06.94zm-11 1L8.5 8.5l.94-2.06 2.06-.94-2.06-.94L8.5 2.5l-.94 2.06-2.06.94zm10 10l.94 2.06.94-2.06 2.06-.94-2.06-.94-.94-2.06-.94 2.06-2.06.94z\"/><path d=\"M17.41 7.96l-1.37-1.37c-.4-.4-.92-.59-1.43-.59-.52 0-1.04.2-1.43.59L10.3 9.45l-7.72 7.72c-.78.78-.78 2.05 0 2.83L4 21.41c.39.39.9.59 1.41.59.51 0 1.02-.2 1.41-.59l7.78-7.78 2.81-2.81c.8-.78.8-2.07 0-2.86zM5.41 20L4 18.59l7.72-7.72 1.47 1.35L5.41 20z\"/>\n",
              "  </svg>\n",
              "      </button>\n",
              "      \n",
              "  <style>\n",
              "    .colab-df-container {\n",
              "      display:flex;\n",
              "      flex-wrap:wrap;\n",
              "      gap: 12px;\n",
              "    }\n",
              "\n",
              "    .colab-df-convert {\n",
              "      background-color: #E8F0FE;\n",
              "      border: none;\n",
              "      border-radius: 50%;\n",
              "      cursor: pointer;\n",
              "      display: none;\n",
              "      fill: #1967D2;\n",
              "      height: 32px;\n",
              "      padding: 0 0 0 0;\n",
              "      width: 32px;\n",
              "    }\n",
              "\n",
              "    .colab-df-convert:hover {\n",
              "      background-color: #E2EBFA;\n",
              "      box-shadow: 0px 1px 2px rgba(60, 64, 67, 0.3), 0px 1px 3px 1px rgba(60, 64, 67, 0.15);\n",
              "      fill: #174EA6;\n",
              "    }\n",
              "\n",
              "    [theme=dark] .colab-df-convert {\n",
              "      background-color: #3B4455;\n",
              "      fill: #D2E3FC;\n",
              "    }\n",
              "\n",
              "    [theme=dark] .colab-df-convert:hover {\n",
              "      background-color: #434B5C;\n",
              "      box-shadow: 0px 1px 3px 1px rgba(0, 0, 0, 0.15);\n",
              "      filter: drop-shadow(0px 1px 2px rgba(0, 0, 0, 0.3));\n",
              "      fill: #FFFFFF;\n",
              "    }\n",
              "  </style>\n",
              "\n",
              "      <script>\n",
              "        const buttonEl =\n",
              "          document.querySelector('#df-222f2af1-dee2-4310-8720-7874aec339f0 button.colab-df-convert');\n",
              "        buttonEl.style.display =\n",
              "          google.colab.kernel.accessAllowed ? 'block' : 'none';\n",
              "\n",
              "        async function convertToInteractive(key) {\n",
              "          const element = document.querySelector('#df-222f2af1-dee2-4310-8720-7874aec339f0');\n",
              "          const dataTable =\n",
              "            await google.colab.kernel.invokeFunction('convertToInteractive',\n",
              "                                                     [key], {});\n",
              "          if (!dataTable) return;\n",
              "\n",
              "          const docLinkHtml = 'Like what you see? Visit the ' +\n",
              "            '<a target=\"_blank\" href=https://colab.research.google.com/notebooks/data_table.ipynb>data table notebook</a>'\n",
              "            + ' to learn more about interactive tables.';\n",
              "          element.innerHTML = '';\n",
              "          dataTable['output_type'] = 'display_data';\n",
              "          await google.colab.output.renderOutput(dataTable, element);\n",
              "          const docLink = document.createElement('div');\n",
              "          docLink.innerHTML = docLinkHtml;\n",
              "          element.appendChild(docLink);\n",
              "        }\n",
              "      </script>\n",
              "    </div>\n",
              "  </div>\n",
              "  "
            ]
          },
          "metadata": {},
          "execution_count": 20
        }
      ],
      "source": [
        "dataset.query('article == \"\"')"
      ]
    },
    {
      "cell_type": "code",
      "execution_count": null,
      "metadata": {
        "colab": {
          "base_uri": "https://localhost:8080/"
        },
        "id": "oCatoifH9kCJ",
        "outputId": "283325e4-a1dc-4c2a-eaa6-0a0f1a2c5863"
      },
      "outputs": [
        {
          "output_type": "execute_result",
          "data": {
            "text/plain": [
              "0        13915\n",
              "1         1243\n",
              "2         1838\n",
              "3         5784\n",
              "4          878\n",
              "         ...  \n",
              "24995      744\n",
              "24996     7810\n",
              "24997     7606\n",
              "24998     1233\n",
              "24999     2898\n",
              "Name: article, Length: 25000, dtype: int64"
            ]
          },
          "metadata": {},
          "execution_count": 21
        }
      ],
      "source": [
        "article_len"
      ]
    },
    {
      "cell_type": "code",
      "execution_count": null,
      "metadata": {
        "colab": {
          "base_uri": "https://localhost:8080/"
        },
        "id": "YeRSoenAE7LR",
        "outputId": "23787ea6-1a0d-4992-bdd4-b3fb82fb95ca"
      },
      "outputs": [
        {
          "output_type": "execute_result",
          "data": {
            "text/plain": [
              "0        2353\n",
              "1         207\n",
              "2         311\n",
              "3         965\n",
              "4         154\n",
              "         ... \n",
              "24995     119\n",
              "24996    1355\n",
              "24997    1287\n",
              "24998     211\n",
              "24999     459\n",
              "Name: article, Length: 25000, dtype: int64"
            ]
          },
          "metadata": {},
          "execution_count": 22
        }
      ],
      "source": [
        "word_count"
      ]
    },
    {
      "cell_type": "code",
      "execution_count": null,
      "metadata": {
        "colab": {
          "base_uri": "https://localhost:8080/"
        },
        "id": "oCaqli0R9ucY",
        "outputId": "c65806cd-8ae6-422e-c4f3-09d58f6f821f"
      },
      "outputs": [
        {
          "output_type": "execute_result",
          "data": {
            "text/plain": [
              "504"
            ]
          },
          "metadata": {},
          "execution_count": 23
        }
      ],
      "source": [
        "min(article_len)"
      ]
    },
    {
      "cell_type": "code",
      "execution_count": null,
      "metadata": {
        "colab": {
          "base_uri": "https://localhost:8080/"
        },
        "id": "7Xetjcme0bL1",
        "outputId": "a8c90404-e1e1-4fa0-d7d1-dd696f321583"
      },
      "outputs": [
        {
          "output_type": "execute_result",
          "data": {
            "text/plain": [
              "74920"
            ]
          },
          "metadata": {},
          "execution_count": 24
        }
      ],
      "source": [
        "max(article_len)"
      ]
    },
    {
      "cell_type": "code",
      "execution_count": null,
      "metadata": {
        "colab": {
          "base_uri": "https://localhost:8080/"
        },
        "id": "qad4xIYWG5Wj",
        "outputId": "256a1599-e24e-4f7b-d8e4-b36148d25f07"
      },
      "outputs": [
        {
          "output_type": "execute_result",
          "data": {
            "text/plain": [
              "100"
            ]
          },
          "metadata": {},
          "execution_count": 25
        }
      ],
      "source": [
        "min(word_count)"
      ]
    },
    {
      "cell_type": "code",
      "source": [
        "max(word_count)"
      ],
      "metadata": {
        "colab": {
          "base_uri": "https://localhost:8080/"
        },
        "id": "ujwWudl3xDrD",
        "outputId": "df1bcfdb-bd36-4ee8-8562-87e5411c1f4d"
      },
      "execution_count": null,
      "outputs": [
        {
          "output_type": "execute_result",
          "data": {
            "text/plain": [
              "9639"
            ]
          },
          "metadata": {},
          "execution_count": 26
        }
      ]
    },
    {
      "cell_type": "code",
      "execution_count": null,
      "metadata": {
        "colab": {
          "base_uri": "https://localhost:8080/",
          "height": 72
        },
        "id": "cd5FVSW11R5w",
        "outputId": "0865106f-dcb9-4482-99c6-c8662dfb1a63"
      },
      "outputs": [
        {
          "output_type": "execute_result",
          "data": {
            "text/plain": [
              "<matplotlib.axes._subplots.AxesSubplot at 0x7f9a7eada910>"
            ]
          },
          "metadata": {},
          "execution_count": 27
        },
        {
          "output_type": "display_data",
          "data": {
            "text/plain": [
              "<Figure size 432x288 with 1 Axes>"
            ],
            "image/png": "[encoded data removed]"
          },
          "metadata": {
            "needs_background": "light"
          }
        }
      ],
      "source": [
        "article_len.plot(\n",
        "    kind = 'hist',\n",
        "    xlabel = 'article_length',\n",
        "    ylabel = 'count',\n",
        "    title='Article Length Count')"
      ]
    },
    {
      "cell_type": "code",
      "source": [
        "temp.plot(\n",
        "    kind = 'hist',\n",
        "    xlabel = 'article_length',\n",
        "    ylabel = 'count',\n",
        "    title='Article Length Count')"
      ],
      "metadata": {
        "colab": {
          "base_uri": "https://localhost:8080/",
          "height": 72
        },
        "id": "HMCAmrjkvssI",
        "outputId": "a8edbb2d-e2b0-4de4-d324-2ab9b947eb49"
      },
      "execution_count": null,
      "outputs": [
        {
          "output_type": "execute_result",
          "data": {
            "text/plain": [
              "<matplotlib.axes._subplots.AxesSubplot at 0x7f9a7ea91050>"
            ]
          },
          "metadata": {},
          "execution_count": 28
        },
        {
          "output_type": "display_data",
          "data": {
            "text/plain": [
              "<Figure size 432x288 with 1 Axes>"
            ],
            "image/png": "[encoded data removed]"
          },
          "metadata": {
            "needs_background": "light"
          }
        }
      ]
    },
    {
      "cell_type": "code",
      "source": [
        "temp2.plot(\n",
        "    kind = 'hist',\n",
        "    xlabel = 'article_length',\n",
        "    ylabel = 'count',\n",
        "    title='Article Length Count')"
      ],
      "metadata": {
        "colab": {
          "base_uri": "https://localhost:8080/",
          "height": 72
        },
        "id": "7IQ9sQhpvvrM",
        "outputId": "bc508e73-1387-478c-cbc4-994b13b7a5e9"
      },
      "execution_count": null,
      "outputs": [
        {
          "output_type": "execute_result",
          "data": {
            "text/plain": [
              "<matplotlib.axes._subplots.AxesSubplot at 0x7f9a7e9a5b10>"
            ]
          },
          "metadata": {},
          "execution_count": 29
        },
        {
          "output_type": "display_data",
          "data": {
            "text/plain": [
              "<Figure size 432x288 with 1 Axes>"
            ],
            "image/png": "[encoded data removed]"
          },
          "metadata": {
            "needs_background": "light"
          }
        }
      ]
    },
    {
      "cell_type": "code",
      "execution_count": null,
      "metadata": {
        "colab": {
          "base_uri": "https://localhost:8080/",
          "height": 72
        },
        "id": "dUBLHhVHFA8q",
        "outputId": "0dfaf850-3903-4e52-e910-b95625186acb"
      },
      "outputs": [
        {
          "output_type": "execute_result",
          "data": {
            "text/plain": [
              "<matplotlib.axes._subplots.AxesSubplot at 0x7f9a7eb629d0>"
            ]
          },
          "metadata": {},
          "execution_count": 30
        },
        {
          "output_type": "display_data",
          "data": {
            "text/plain": [
              "<Figure size 432x288 with 1 Axes>"
            ],
            "image/png": "[encoded data removed]"
          },
          "metadata": {
            "needs_background": "light"
          }
        }
      ],
      "source": [
        "word_count.plot(\n",
        "    kind = 'hist',\n",
        "    xlabel = 'word_count',\n",
        "    ylabel = 'count',\n",
        "    title='Article Word Count')"
      ]
    },
    {
      "cell_type": "markdown",
      "metadata": {
        "id": "vLybSKzTJCA7"
      },
      "source": [
        "##Text Cleaning"
      ]
    },
    {
      "cell_type": "code",
      "execution_count": null,
      "metadata": {
        "colab": {
          "base_uri": "https://localhost:8080/"
        },
        "id": "pWs97cBlpK7N",
        "outputId": "33585939-9dad-4d09-b59f-38dc5d9cb2f1"
      },
      "outputs": [
        {
          "output_type": "stream",
          "name": "stdout",
          "text": [
            "[nltk_data] Downloading package stopwords to /root/nltk_data...\n",
            "[nltk_data]   Package stopwords is already up-to-date!\n"
          ]
        }
      ],
      "source": [
        "import re\n",
        "import nltk\n",
        "nltk.download('stopwords')\n",
        "from nltk.corpus import stopwords\n",
        "from nltk.stem.porter import PorterStemmer\n",
        "corpus = []\n",
        "\n",
        "for i in range(0, 25000):\n",
        " text = re.sub('[^a-zA-Z]',' ',str(dataset['article'][i]))\n",
        " text = text.lower()\n",
        " text = text.split()\n",
        " ps = PorterStemmer()\n",
        " text=[ps.stem(word) for word in text if not word in set(stopwords.words('english'))]\n",
        " text = ' '.join(text)\n",
        " corpus.append(text)\n",
        " "
      ]
    },
    {
      "cell_type": "code",
      "execution_count": null,
      "metadata": {
        "colab": {
          "base_uri": "https://localhost:8080/"
        },
        "id": "TjzfTBdW7Pqx",
        "outputId": "15ca5ffd-5e00-4d0b-e031-4cf1204e35b1"
      },
      "outputs": [
        {
          "output_type": "execute_result",
          "data": {
            "text/plain": [
              "25000"
            ]
          },
          "metadata": {},
          "execution_count": 32
        }
      ],
      "source": [
        "len(corpus)"
      ]
    },
    {
      "cell_type": "code",
      "execution_count": null,
      "metadata": {
        "id": "p2E3MKvWTivJ"
      },
      "outputs": [],
      "source": [
        "dataset['article'] = corpus"
      ]
    },
    {
      "cell_type": "code",
      "execution_count": null,
      "metadata": {
        "id": "Tm0vF_INUH8Q"
      },
      "outputs": [],
      "source": [
        "dataset.article"
      ]
    },
    {
      "cell_type": "code",
      "execution_count": null,
      "metadata": {
        "id": "MZfl9grP1h2H"
      },
      "outputs": [],
      "source": [
        "from collections import Counter\n",
        "def counter_word(text):\n",
        "  count = Counter()\n",
        "  for i in text.values:\n",
        "    for word in i.split():\n",
        "      count[word] += 1\n",
        "  return count"
      ]
    },
    {
      "cell_type": "code",
      "execution_count": null,
      "metadata": {
        "id": "eS-SaDbU2EY6"
      },
      "outputs": [],
      "source": [
        "text = dataset.article\n",
        "counter = counter_word(text)"
      ]
    },
    {
      "cell_type": "code",
      "execution_count": null,
      "metadata": {
        "colab": {
          "base_uri": "https://localhost:8080/"
        },
        "id": "PIvpFqlVUcV0",
        "outputId": "625d3478-1240-4628-f359-7ee235aa85e6"
      },
      "outputs": [
        {
          "output_type": "execute_result",
          "data": {
            "text/plain": [
              "73112"
            ]
          },
          "metadata": {},
          "execution_count": 36
        }
      ],
      "source": [
        "len(counter)"
      ]
    },
    {
      "cell_type": "code",
      "execution_count": null,
      "metadata": {
        "id": "uTlHnwCJUeij"
      },
      "outputs": [],
      "source": [
        "counter"
      ]
    },
    {
      "cell_type": "code",
      "execution_count": null,
      "metadata": {
        "id": "A8REoKf02Tpn"
      },
      "outputs": [],
      "source": [
        "num_words =  1000   \n",
        "max_length = 20"
      ]
    },
    {
      "cell_type": "code",
      "execution_count": null,
      "metadata": {
        "id": "TYVov69hUyFT"
      },
      "outputs": [],
      "source": [
        "X =  dataset.iloc[:, 4].values\n",
        "y = dataset.iloc[:, 5].values"
      ]
    },
    {
      "cell_type": "markdown",
      "source": [
        "##Train Test Validation Split"
      ],
      "metadata": {
        "id": "reO4LmmO2wfh"
      }
    },
    {
      "cell_type": "code",
      "execution_count": null,
      "metadata": {
        "id": "Fe41yGaLuVgN"
      },
      "outputs": [],
      "source": [
        "from sklearn.model_selection import train_test_split\n",
        "X_train,X_test,y_train,y_test =train_test_split(X, y, test_size=0.20, random_state=1)\n",
        "\n",
        "from sklearn.metrics import accuracy_score\n",
        "from sklearn.metrics import f1_score\n",
        "from sklearn.metrics import precision_score\n",
        "from sklearn.metrics import recall_score"
      ]
    },
    {
      "cell_type": "code",
      "source": [
        "X_test, X_valid, y_test, y_valid  = train_test_split(X_test, y_test, test_size=0.50, random_state=1) "
      ],
      "metadata": {
        "id": "ul8ymlln_E2h"
      },
      "execution_count": null,
      "outputs": []
    },
    {
      "cell_type": "code",
      "source": [
        "X_train.shape"
      ],
      "metadata": {
        "colab": {
          "base_uri": "https://localhost:8080/"
        },
        "id": "Mlz6qC5j-vJb",
        "outputId": "1424f5a1-a9ee-4b0d-ede3-fbdc386e0ca1"
      },
      "execution_count": null,
      "outputs": [
        {
          "output_type": "execute_result",
          "data": {
            "text/plain": [
              "(20000,)"
            ]
          },
          "metadata": {},
          "execution_count": 234
        }
      ]
    },
    {
      "cell_type": "code",
      "source": [
        "X_test.shape"
      ],
      "metadata": {
        "colab": {
          "base_uri": "https://localhost:8080/"
        },
        "id": "ua3Hbo5s-zaI",
        "outputId": "d847094f-ccb6-473f-b2d5-88181d9afa42"
      },
      "execution_count": null,
      "outputs": [
        {
          "output_type": "execute_result",
          "data": {
            "text/plain": [
              "(2500,)"
            ]
          },
          "metadata": {},
          "execution_count": 235
        }
      ]
    },
    {
      "cell_type": "code",
      "source": [
        "X_valid.shape"
      ],
      "metadata": {
        "colab": {
          "base_uri": "https://localhost:8080/"
        },
        "id": "Vc9ihYce-2g0",
        "outputId": "0d4234d0-200f-4eb9-ea1a-23a337d1e4b9"
      },
      "execution_count": null,
      "outputs": [
        {
          "output_type": "execute_result",
          "data": {
            "text/plain": [
              "(2500,)"
            ]
          },
          "metadata": {},
          "execution_count": 236
        }
      ]
    },
    {
      "cell_type": "markdown",
      "source": [
        "##Tokenization\n"
      ],
      "metadata": {
        "id": "8T37B4Fm24vk"
      }
    },
    {
      "cell_type": "code",
      "execution_count": null,
      "metadata": {
        "id": "t-vMnVgcU_Fz"
      },
      "outputs": [],
      "source": [
        "from keras.preprocessing.text import Tokenizer\n",
        "\n",
        "tokenizer = Tokenizer(num_words=num_words)\n",
        "tokenizer.fit_on_texts(X_train)      "
      ]
    },
    {
      "cell_type": "code",
      "execution_count": null,
      "metadata": {
        "id": "fPMx8Q3PVSo2"
      },
      "outputs": [],
      "source": [
        "word_index = tokenizer.word_index"
      ]
    },
    {
      "cell_type": "code",
      "execution_count": null,
      "metadata": {
        "id": "Ok_jaw4FVUCF"
      },
      "outputs": [],
      "source": [
        "word_index"
      ]
    },
    {
      "cell_type": "code",
      "execution_count": null,
      "metadata": {
        "id": "ljdP42PSVYgV"
      },
      "outputs": [],
      "source": [
        "X_train_seq = tokenizer.texts_to_sequences(X_train)"
      ]
    },
    {
      "cell_type": "code",
      "source": [
        "len(X_train_seq)"
      ],
      "metadata": {
        "id": "IpTWhgOa2YTP",
        "colab": {
          "base_uri": "https://localhost:8080/"
        },
        "outputId": "e5051acb-b338-4ee2-d2a8-d722592606b6"
      },
      "execution_count": null,
      "outputs": [
        {
          "output_type": "execute_result",
          "data": {
            "text/plain": [
              "20000"
            ]
          },
          "metadata": {},
          "execution_count": 241
        }
      ]
    },
    {
      "cell_type": "markdown",
      "source": [
        "##Padding"
      ],
      "metadata": {
        "id": "_oRTSNkL296E"
      }
    },
    {
      "cell_type": "code",
      "execution_count": null,
      "metadata": {
        "id": "Lj-rI1HPVilR"
      },
      "outputs": [],
      "source": [
        "from keras.preprocessing.sequence import pad_sequences\n",
        "\n",
        "train_padded = pad_sequences(\n",
        "    X_train_seq, maxlen=max_length, padding=\"post\", truncating=\"post\"\n",
        ")"
      ]
    },
    {
      "cell_type": "code",
      "execution_count": null,
      "metadata": {
        "id": "jnUlMivqV2-2",
        "colab": {
          "base_uri": "https://localhost:8080/"
        },
        "outputId": "d407bf44-bfe1-4102-8e3a-b383fc8f694c"
      },
      "outputs": [
        {
          "output_type": "execute_result",
          "data": {
            "text/plain": [
              "array([ 21,   4, 700, 854, 378, 616, 389,  15, 404,  76, 590,   4,  13,\n",
              "       602, 114, 147, 140, 734, 377, 223], dtype=int32)"
            ]
          },
          "metadata": {},
          "execution_count": 243
        }
      ],
      "source": [
        "train_padded[0]"
      ]
    },
    {
      "cell_type": "code",
      "execution_count": null,
      "metadata": {
        "id": "NXnCejAVV7oV"
      },
      "outputs": [],
      "source": [
        "X_test_seq = tokenizer.texts_to_sequences(X_test)\n",
        "test_padded = pad_sequences(\n",
        "    X_test_seq, maxlen=max_length, padding=\"post\", truncating=\"post\"\n",
        ")"
      ]
    },
    {
      "cell_type": "code",
      "source": [
        "X_valid_seq = tokenizer.texts_to_sequences(X_valid)\n",
        "valid_padded = pad_sequences(\n",
        "    X_valid_seq, maxlen=max_length, padding=\"post\", truncating=\"post\"\n",
        ")"
      ],
      "metadata": {
        "id": "owrMabXlxm07"
      },
      "execution_count": null,
      "outputs": []
    },
    {
      "cell_type": "code",
      "execution_count": null,
      "metadata": {
        "colab": {
          "base_uri": "https://localhost:8080/"
        },
        "id": "noXcPYrgWKF8",
        "outputId": "c58db676-dc46-4a07-ee45-dacbca69c72d"
      },
      "outputs": [
        {
          "output_type": "stream",
          "name": "stdout",
          "text": [
            "2544\n",
            "216\n"
          ]
        }
      ],
      "source": [
        "print(len(X_train[2]))\n",
        "print(len(X_train_seq[2]))"
      ]
    },
    {
      "cell_type": "code",
      "execution_count": null,
      "metadata": {
        "colab": {
          "base_uri": "https://localhost:8080/"
        },
        "id": "0jr7VF-HW3v0",
        "outputId": "61f7706e-1440-47ca-cb74-ab2c4e6183f9"
      },
      "outputs": [
        {
          "output_type": "stream",
          "name": "stdout",
          "text": [
            "Shape of train (20000, 20)\n",
            "Shape of test (2500, 20)\n",
            "Shape of test (2500, 20)\n"
          ]
        }
      ],
      "source": [
        "print(f\"Shape of train {train_padded.shape}\")\n",
        "print(f\"Shape of test {test_padded.shape}\")\n",
        "print(f\"Shape of test {valid_padded.shape}\")"
      ]
    },
    {
      "cell_type": "code",
      "source": [
        "kids = 0\n",
        "ad = 0\n",
        "for x in y_train:\n",
        "  if x == 0:\n",
        "    kids = kids+1\n",
        "  else:\n",
        "    ad = ad+1 \n",
        "\n",
        "kids2 = 0\n",
        "ad2 = 0\n",
        "for x in y_test:\n",
        "  if x == 0:\n",
        "    kids2 = kids2+1\n",
        "  else:\n",
        "    ad2 = ad2+1 \n",
        "\n",
        "kids3 = 0\n",
        "ad3 = 0\n",
        "for x in y_valid:\n",
        "  if x == 0:\n",
        "    kids3 = kids3+1\n",
        "  else:\n",
        "    ad3 = ad3+1 "
      ],
      "metadata": {
        "id": "Fe19HFhEXsTh"
      },
      "execution_count": null,
      "outputs": []
    },
    {
      "cell_type": "code",
      "source": [
        "print(kids)\n",
        "print(ad)\n",
        "print(kids2)\n",
        "print(ad2)\n",
        "print(kids3)\n",
        "print(ad3)"
      ],
      "metadata": {
        "colab": {
          "base_uri": "https://localhost:8080/"
        },
        "id": "1XLxnWo1YZdu",
        "outputId": "1414bdc2-76dc-4d8c-e448-7ed1a0e9e831"
      },
      "execution_count": null,
      "outputs": [
        {
          "output_type": "stream",
          "name": "stdout",
          "text": [
            "10031\n",
            "9969\n",
            "1263\n",
            "1237\n",
            "1238\n",
            "1262\n"
          ]
        }
      ]
    },
    {
      "cell_type": "markdown",
      "metadata": {
        "id": "Ehl_FQc7JNcm"
      },
      "source": [
        "##Sequential Model"
      ]
    },
    {
      "cell_type": "code",
      "source": [
        "import tensorflow\n",
        "from keras.models import Sequential\n",
        "from tensorflow.keras import regularizers\n",
        "from tensorflow.keras import layers\n",
        "from tensorflow.keras import losses\n",
        "from keras.layers import Embedding, LSTM, Dense, Dropout, Flatten\n",
        "from keras.initializers import Constant\n",
        "from tensorflow.keras.optimizers import Adam\n",
        "\n",
        "model = Sequential()\n",
        "\n",
        "model.add(Embedding(num_words, 16, input_length=max_length,\\\n",
        "                                    embeddings_regularizer = regularizers.l2(0.005)))\n",
        "model.add(LSTM(16,recurrent_dropout=0.2,return_sequences=True))\n",
        "\n",
        "model.add(Flatten())\n",
        "\n",
        "model.add(Dense(1, activation=\"sigmoid\"))\n",
        "\n",
        "\n",
        "optimizer = Adam(learning_rate=3e-4)\n",
        "\n",
        "model.compile(loss=\"binary_crossentropy\", optimizer=optimizer, metrics=[\"accuracy\"])"
      ],
      "metadata": {
        "id": "8xsTP73nRAkU"
      },
      "execution_count": null,
      "outputs": []
    },
    {
      "cell_type": "code",
      "source": [
        "from keras import callbacks\n",
        "earlystopping = callbacks.EarlyStopping(monitor =\"val_loss\", \n",
        "                                        mode =\"auto\", patience = 5, \n",
        "                                        restore_best_weights = True)"
      ],
      "metadata": {
        "id": "jPhJFnFxyMt1"
      },
      "execution_count": null,
      "outputs": []
    },
    {
      "cell_type": "markdown",
      "source": [
        "##Training"
      ],
      "metadata": {
        "id": "32Of61Tl3B5N"
      }
    },
    {
      "cell_type": "code",
      "source": [
        "history = model.fit(\n",
        "    train_padded, y_train, epochs=11, validation_data=(test_padded, y_test),callbacks = [earlystopping]\n",
        ")"
      ],
      "metadata": {
        "colab": {
          "base_uri": "https://localhost:8080/"
        },
        "id": "71GND6ZzK-gS",
        "outputId": "266d100b-93c5-427f-b3c3-15e569cf3a3f"
      },
      "execution_count": null,
      "outputs": [
        {
          "output_type": "stream",
          "name": "stdout",
          "text": [
            "Epoch 1/11\n",
            "625/625 [==============================] - 10s 12ms/step - loss: 0.3545 - accuracy: 0.8755 - val_loss: 0.1931 - val_accuracy: 0.9356\n",
            "Epoch 2/11\n",
            "625/625 [==============================] - 7s 12ms/step - loss: 0.1733 - accuracy: 0.9493 - val_loss: 0.1773 - val_accuracy: 0.9436\n",
            "Epoch 3/11\n",
            "625/625 [==============================] - 8s 12ms/step - loss: 0.1556 - accuracy: 0.9531 - val_loss: 0.1731 - val_accuracy: 0.9416\n",
            "Epoch 4/11\n",
            "625/625 [==============================] - 7s 11ms/step - loss: 0.1476 - accuracy: 0.9561 - val_loss: 0.1622 - val_accuracy: 0.9476\n",
            "Epoch 5/11\n",
            "625/625 [==============================] - 7s 11ms/step - loss: 0.1428 - accuracy: 0.9577 - val_loss: 0.1660 - val_accuracy: 0.9472\n",
            "Epoch 6/11\n",
            "625/625 [==============================] - 7s 11ms/step - loss: 0.1393 - accuracy: 0.9584 - val_loss: 0.1661 - val_accuracy: 0.9476\n",
            "Epoch 7/11\n",
            "625/625 [==============================] - 7s 11ms/step - loss: 0.1355 - accuracy: 0.9594 - val_loss: 0.1646 - val_accuracy: 0.9480\n",
            "Epoch 8/11\n",
            "625/625 [==============================] - 7s 11ms/step - loss: 0.1333 - accuracy: 0.9607 - val_loss: 0.1579 - val_accuracy: 0.9516\n",
            "Epoch 9/11\n",
            "625/625 [==============================] - 7s 11ms/step - loss: 0.1305 - accuracy: 0.9617 - val_loss: 0.1573 - val_accuracy: 0.9496\n",
            "Epoch 10/11\n",
            "625/625 [==============================] - 7s 11ms/step - loss: 0.1264 - accuracy: 0.9631 - val_loss: 0.1552 - val_accuracy: 0.9504\n",
            "Epoch 11/11\n",
            "625/625 [==============================] - 7s 11ms/step - loss: 0.1237 - accuracy: 0.9638 - val_loss: 0.1489 - val_accuracy: 0.9548\n"
          ]
        }
      ]
    },
    {
      "cell_type": "markdown",
      "source": [
        "##Training loss VS Validation loss"
      ],
      "metadata": {
        "id": "PVWvLGnx3IRi"
      }
    },
    {
      "cell_type": "code",
      "source": [
        "plt.plot(history.history['loss'], label=' training data')\n",
        "plt.plot(history.history['val_loss'], label='validation data')\n",
        "plt.title('Loss for Text Classification')\n",
        "plt.ylabel('Loss value')\n",
        "plt.xlabel('No. epoch')\n",
        "plt.legend(loc=\"upper left\")\n",
        "plt.show()"
      ],
      "metadata": {
        "colab": {
          "base_uri": "https://localhost:8080/",
          "height": 295
        },
        "id": "pYBFZ7zZLEb6",
        "outputId": "71011f45-2ea8-42e7-cad3-e26537eecd9a"
      },
      "execution_count": null,
      "outputs": [
        {
          "output_type": "display_data",
          "data": {
            "text/plain": [
              "<Figure size 432x288 with 1 Axes>"
            ],
            "image/png": "[encoded data removed]"
          },
          "metadata": {
            "needs_background": "light"
          }
        }
      ]
    },
    {
      "cell_type": "markdown",
      "source": [
        "##Training accuracy VS Validation accuracy"
      ],
      "metadata": {
        "id": "v92TyPEG3MRf"
      }
    },
    {
      "cell_type": "code",
      "source": [
        "plt.plot(history.history['accuracy'], label=' training data')\n",
        "plt.plot(history.history['val_accuracy'], label='validation data')\n",
        "plt.title('Accuracy for Text Classification')\n",
        "plt.ylabel('Accuracy value')\n",
        "plt.xlabel('No. epoch')\n",
        "plt.legend(loc=\"upper left\")\n",
        "plt.show()"
      ],
      "metadata": {
        "colab": {
          "base_uri": "https://localhost:8080/",
          "height": 295
        },
        "id": "uXhFJVmWLHPn",
        "outputId": "b773ec77-4f6e-424c-b19b-45b23cdc659c"
      },
      "execution_count": null,
      "outputs": [
        {
          "output_type": "display_data",
          "data": {
            "text/plain": [
              "<Figure size 432x288 with 1 Axes>"
            ],
            "image/png": "[encoded data removed]"
          },
          "metadata": {
            "needs_background": "light"
          }
        }
      ]
    },
    {
      "cell_type": "markdown",
      "source": [
        "##Depictions\n"
      ],
      "metadata": {
        "id": "ygAVQHDoLIAm"
      }
    },
    {
      "cell_type": "code",
      "execution_count": null,
      "metadata": {
        "colab": {
          "base_uri": "https://localhost:8080/"
        },
        "id": "kDXAfh_louuz",
        "outputId": "79a499c1-8009-447b-d350-ae55a4791aa5"
      },
      "outputs": [
        {
          "output_type": "stream",
          "name": "stdout",
          "text": [
            "Model: \"sequential_21\"\n",
            "_________________________________________________________________\n",
            " Layer (type)                Output Shape              Param #   \n",
            "=================================================================\n",
            " embedding_21 (Embedding)    (None, 20, 16)            16000     \n",
            "                                                                 \n",
            " lstm_21 (LSTM)              (None, 20, 16)            2112      \n",
            "                                                                 \n",
            " flatten_20 (Flatten)        (None, 320)               0         \n",
            "                                                                 \n",
            " dense_56 (Dense)            (None, 1)                 321       \n",
            "                                                                 \n",
            "=================================================================\n",
            "Total params: 18,433\n",
            "Trainable params: 18,433\n",
            "Non-trainable params: 0\n",
            "_________________________________________________________________\n"
          ]
        }
      ],
      "source": [
        "model.summary()"
      ]
    },
    {
      "cell_type": "code",
      "execution_count": null,
      "metadata": {
        "colab": {
          "base_uri": "https://localhost:8080/",
          "height": 533
        },
        "id": "VOZJiiGloxzi",
        "outputId": "07924f61-afff-407d-992d-cf6fc77e09c4"
      },
      "outputs": [
        {
          "output_type": "execute_result",
          "data": {
            "text/plain": [
              "<IPython.core.display.Image object>"
            ],
            "image/png": "[encoded data removed]"
          },
          "metadata": {},
          "execution_count": 300
        }
      ],
      "source": [
        "tensorflow.keras.utils.plot_model(model, \"multi_input_and_output_model.png\", show_shapes=True)"
      ]
    },
    {
      "cell_type": "markdown",
      "metadata": {
        "id": "5dlzUkAGJRhw"
      },
      "source": [
        "##Evaluation"
      ]
    },
    {
      "cell_type": "code",
      "source": [
        "results0 = model.evaluate(train_padded,y_train)"
      ],
      "metadata": {
        "colab": {
          "base_uri": "https://localhost:8080/"
        },
        "id": "7hLcp2X8PI15",
        "outputId": "a7c1e9a4-012e-4983-a5ab-9bac312efdd8"
      },
      "execution_count": null,
      "outputs": [
        {
          "output_type": "stream",
          "name": "stdout",
          "text": [
            "625/625 [==============================] - 3s 4ms/step - loss: 0.1054 - accuracy: 0.9742\n"
          ]
        }
      ]
    },
    {
      "cell_type": "code",
      "execution_count": null,
      "metadata": {
        "colab": {
          "base_uri": "https://localhost:8080/"
        },
        "id": "mmOhDi49X0L9",
        "outputId": "24f1a2f8-4afa-40e6-b6dd-13976fbfc7bd"
      },
      "outputs": [
        {
          "output_type": "stream",
          "name": "stdout",
          "text": [
            "79/79 [==============================] - 0s 4ms/step - loss: 0.1489 - accuracy: 0.9548\n"
          ]
        }
      ],
      "source": [
        "results = model.evaluate(test_padded,y_test)"
      ]
    },
    {
      "cell_type": "code",
      "source": [
        "results2 = model.evaluate(valid_padded,y_valid)"
      ],
      "metadata": {
        "colab": {
          "base_uri": "https://localhost:8080/"
        },
        "id": "i-2XUwXxA1tf",
        "outputId": "5b979f31-4765-4e5d-e370-8f6daa410316"
      },
      "execution_count": null,
      "outputs": [
        {
          "output_type": "stream",
          "name": "stdout",
          "text": [
            "79/79 [==============================] - 0s 4ms/step - loss: 0.1379 - accuracy: 0.9616\n"
          ]
        }
      ]
    },
    {
      "cell_type": "code",
      "execution_count": null,
      "metadata": {
        "colab": {
          "base_uri": "https://localhost:8080/"
        },
        "id": "dDl_sUzoYr76",
        "outputId": "e2adf893-c24e-43a1-a808-b402948b08cc"
      },
      "outputs": [
        {
          "output_type": "stream",
          "name": "stdout",
          "text": [
            "[0.   0.81 0.01 ... 0.03 0.   0.59]\n",
            "[0 1 0 ... 0 0 1]\n"
          ]
        }
      ],
      "source": [
        "p_pred = model.predict(test_padded)\n",
        "p_pred = p_pred.flatten()\n",
        "print(p_pred.round(2))\n",
        "# extract the predicted class labels\n",
        "y_pred = np.where(p_pred > 0.5, 1, 0)\n",
        "print(y_pred)"
      ]
    },
    {
      "cell_type": "code",
      "source": [
        "p_pred2 = model.predict(valid_padded)\n",
        "p_pred2 = p_pred2.flatten()\n",
        "print(p_pred2.round(2))\n",
        "# extract the predicted class labels\n",
        "y_pred2 = np.where(p_pred2 > 0.5, 1, 0)\n",
        "print(y_pred2)"
      ],
      "metadata": {
        "colab": {
          "base_uri": "https://localhost:8080/"
        },
        "id": "7Qq9-GVcBI9t",
        "outputId": "3243c3e5-eec1-4d5b-a068-d78d7e26bea1"
      },
      "execution_count": null,
      "outputs": [
        {
          "output_type": "stream",
          "name": "stdout",
          "text": [
            "[0.01 0.99 1.   ... 0.   0.07 1.  ]\n",
            "[0 1 1 ... 0 0 1]\n"
          ]
        }
      ]
    },
    {
      "cell_type": "code",
      "source": [
        "from sklearn.metrics import ConfusionMatrixDisplay\n",
        "from sklearn.metrics import confusion_matrix\n",
        "import matplotlib.pyplot as plt\n",
        "import numpy as np\n",
        "\n",
        "cm = confusion_matrix(y_test, y_pred)\n",
        "\n",
        "disp = ConfusionMatrixDisplay(confusion_matrix=cm)\n",
        "\n",
        "disp.plot(cmap=plt.cm.Blues)\n",
        "plt.show()"
      ],
      "metadata": {
        "colab": {
          "base_uri": "https://localhost:8080/",
          "height": 282
        },
        "id": "lWRaO2d7aIou",
        "outputId": "28523e05-e7d8-4f54-f24f-c76f27d8a703"
      },
      "execution_count": null,
      "outputs": [
        {
          "output_type": "display_data",
          "data": {
            "text/plain": [
              "<Figure size 432x288 with 2 Axes>"
            ],
            "image/png": "[encoded data removed]"
          },
          "metadata": {
            "needs_background": "light"
          }
        }
      ]
    },
    {
      "cell_type": "code",
      "source": [
        "from sklearn.metrics import ConfusionMatrixDisplay\n",
        "from sklearn.metrics import confusion_matrix\n",
        "import matplotlib.pyplot as plt\n",
        "import numpy as np\n",
        "\n",
        "cm2 = confusion_matrix(y_valid, y_pred2)\n",
        "\n",
        "disp2 = ConfusionMatrixDisplay(confusion_matrix=cm2)\n",
        "\n",
        "disp2.plot(cmap=plt.cm.Blues)\n",
        "plt.show()"
      ],
      "metadata": {
        "colab": {
          "base_uri": "https://localhost:8080/",
          "height": 280
        },
        "id": "5w97BAdaBPPB",
        "outputId": "9a2ffe0f-75d2-4064-c6f5-532e50f4cea7"
      },
      "execution_count": null,
      "outputs": [
        {
          "output_type": "display_data",
          "data": {
            "text/plain": [
              "<Figure size 432x288 with 2 Axes>"
            ],
            "image/png": "[encoded data removed]"
          },
          "metadata": {
            "needs_background": "light"
          }
        }
      ]
    },
    {
      "cell_type": "code",
      "execution_count": null,
      "metadata": {
        "colab": {
          "base_uri": "https://localhost:8080/"
        },
        "id": "Vz0hdCqPZczq",
        "outputId": "bd8e36ae-7ded-4682-ca4c-9c6a10446929"
      },
      "outputs": [
        {
          "output_type": "stream",
          "name": "stdout",
          "text": [
            "              precision    recall  f1-score   support\n",
            "\n",
            "           0       0.96      0.95      0.96      1263\n",
            "           1       0.95      0.95      0.95      1237\n",
            "\n",
            "    accuracy                           0.95      2500\n",
            "   macro avg       0.95      0.95      0.95      2500\n",
            "weighted avg       0.95      0.95      0.95      2500\n",
            "\n"
          ]
        }
      ],
      "source": [
        "from sklearn.metrics import classification_report\n",
        "report = classification_report(y_test, y_pred)\n",
        "print(report)"
      ]
    },
    {
      "cell_type": "code",
      "source": [
        "from sklearn.metrics import classification_report\n",
        "report2 = classification_report(y_valid, y_pred2)\n",
        "print(report2)"
      ],
      "metadata": {
        "colab": {
          "base_uri": "https://localhost:8080/"
        },
        "id": "Orecvmi_BU9e",
        "outputId": "2a627195-9030-446e-ef28-4b3fa61e6270"
      },
      "execution_count": null,
      "outputs": [
        {
          "output_type": "stream",
          "name": "stdout",
          "text": [
            "              precision    recall  f1-score   support\n",
            "\n",
            "           0       0.96      0.96      0.96      1238\n",
            "           1       0.96      0.97      0.96      1262\n",
            "\n",
            "    accuracy                           0.96      2500\n",
            "   macro avg       0.96      0.96      0.96      2500\n",
            "weighted avg       0.96      0.96      0.96      2500\n",
            "\n"
          ]
        }
      ]
    }
  ],
  "metadata": {
    "colab": {
      "collapsed_sections": [
        "7HqNOkQC2NWp",
        "fwtsQsfhyz-2",
        "vLybSKzTJCA7",
        "reO4LmmO2wfh",
        "8T37B4Fm24vk",
        "_oRTSNkL296E",
        "Ehl_FQc7JNcm",
        "32Of61Tl3B5N",
        "PVWvLGnx3IRi",
        "v92TyPEG3MRf",
        "ygAVQHDoLIAm",
        "5dlzUkAGJRhw"
      ],
      "machine_shape": "hm",
      "name": "Pre-Trained News Classifier.ipynb",
      "provenance": []
    },
    "kernelspec": {
      "display_name": "Python 3",
      "name": "python3"
    }
  },
  "nbformat": 4,
  "nbformat_minor": 0
}